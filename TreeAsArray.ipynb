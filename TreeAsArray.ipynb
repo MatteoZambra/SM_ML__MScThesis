{
 "cells": [
  {
   "cell_type": "markdown",
   "metadata": {},
   "source": [
    "# TreeStructure DS creation"
   ]
  },
  {
   "cell_type": "markdown",
   "metadata": {},
   "source": [
    "## A single feature generation\n",
    "\n",
    "Usiamo una rappresentazione array per generare il dataset ad albero.\n",
    "\n",
    "Le grandezze usate nella generazione sono:\n",
    "\n",
    "* $Bf$: branching factor. Per un albero binario è costante e uguale a $2$;\n",
    "* $D$: numero di livelli. Se l'albero ha D = 4 livelli, questi vengono indicizzati partendo da $0$ (root) a $D-1$ (leaves);\n",
    "* $N = Bf^{D} - 1$: nodi totali nell'albero;\n",
    "* $n = Bf^{D-1} - 1$: nodi che sono figlie;\n",
    "* $P = Bf^{D-1}$: nodi che sono foglie;\n",
    "* $M$: arbitrario e indipendente, è il numero di features per ogni esempio.\n",
    "\n",
    "Qui semplicemente generiamo un solo vettore (serie di _leaves_), quindi serve una sola soglia probabilistica. \n",
    "Successivamente si ripete la stessa cosa per tutte le features desiderate. Infatti, il procedimento illustrato è finalizzato alla creazione di **una** feature: le _leaves_ (in numero $Bf^{D-1}$) sono la tante quanti i training examples. La foglia indicizzata con `0` (la prima entrata del vettore `tree` generato) è la prima feature `0` del primo vettore $\\mathbf{y}^{0}$, la seconda foglia di `tree` è la prima feature del secondo vettore $\\mathbf{y}^{1}$. \n",
    "\n",
    "Il numero di foglie $P$ è uguale al vettore di training examples. Il numero di features $M$ è arbitrario e non dipende dalle caratteristiche dell'albero.\n",
    "\n",
    "\n",
    "Ref: [BinaryTrees on OpenDataStructures](https://opendatastructures.org/versions/edition-0.1d/ods-java/node52.html \"Questo sarebbe per Java, e anche più completo\")"
   ]
  },
  {
   "cell_type": "code",
   "execution_count": null,
   "metadata": {},
   "outputs": [],
   "source": [
    "\"\"\"Generazione di UNA feature per tutti i training examples\n",
    "\n",
    "   Debug version --- troppi print\"\"\"\n",
    "\n",
    "\n",
    "import numpy as np\n",
    "from numpy import random\n",
    "\n",
    "Bf = 2\n",
    "D  = 4\n",
    "N  = Bf**(D) - 1\n",
    "print('Nodi totali N = ',N)\n",
    "n  = Bf**(D-1) -1\n",
    "print('Nodi escluse le foglie n = ',n)\n",
    "\n",
    "tree = np.zeros(N)\n",
    "outcomes = [-1,1]\n",
    "e = random.rand()\n",
    "print('Soglia probabilistica e = ',e)\n",
    "tree[0] = outcomes[random.randint(0,2)]\n",
    "print('Root = ',tree[0]); print(' ')\n",
    "\n",
    "\n",
    "for i in range(n):\n",
    "    print('Nodo ',i)\n",
    "    p = random.rand()\n",
    "    print('Probabilità di flip p = ',p)\n",
    "    if p < e:\n",
    "        tree[2*i + 1] = tree[i]\n",
    "        print('Nodo ',2*i+1,' = ',tree[2*i+1])\n",
    "    else:\n",
    "        tree[2*i + 1] = (-1.0)*tree[i]\n",
    "        print('Nodo ',2*i+1,' = ',tree[2*i+1])\n",
    "    #end\n",
    "    p = random.rand()\n",
    "    print('Probabilità di flip p = ',p)\n",
    "    if p < e:\n",
    "        tree[2*i + 2] = tree[i]\n",
    "        print('Nodo ',2*i+2,' = ',tree[2*i+2])\n",
    "    else:\n",
    "        tree[2*i + 2] = (-1.0)*tree[i]\n",
    "        print('Nodo ',2*i+2,' = ',tree[2*i+2])\n",
    "    #end\n",
    "    print(' ')\n",
    "#end\n",
    "\n",
    "tree"
   ]
  },
  {
   "cell_type": "markdown",
   "metadata": {},
   "source": [
    "## DataSet Spawn\n",
    "\n",
    "Questo procedimento si ripete tante volte quante sono le features che vogliamo per ogni training example. Quindi lo ripetiamo $M$ volte, quindi ogni volta che ripetiamo dobbiamo generare una nuova soglia probabilistica $\\epsilon$ rispetto alla quale confrontare la probabilità di flip per ogni nodo del quale vogliamo generare i children.\n",
    "\n",
    "Inoltre è anche necessario generare ogni volta un nuovo valore della variabile casuale del nodo `root`."
   ]
  },
  {
   "cell_type": "code",
   "execution_count": 99,
   "metadata": {},
   "outputs": [
    {
     "data": {
      "text/plain": [
       "array([[-1., -1., -1., -1., -1., -1., -1., -1.],\n",
       "       [-1.,  1., -1.,  1.,  1., -1., -1., -1.],\n",
       "       [-1.,  1., -1., -1., -1., -1.,  1., -1.],\n",
       "       [ 1.,  1.,  1.,  1., -1.,  1.,  1.,  1.]])"
      ]
     },
     "execution_count": 99,
     "metadata": {},
     "output_type": "execute_result"
    }
   ],
   "source": [
    "import numpy as np\n",
    "from numpy import random\n",
    "\n",
    "Bf = 2\n",
    "D  = 4\n",
    "N  = Bf**(D) - 1\n",
    "n  = Bf**(D-1) -1\n",
    "P  = Bf**(D-1)\n",
    "M = 4\n",
    "\n",
    "tree = np.zeros(N)\n",
    "outcomes = [-1,1]\n",
    "Y = np.zeros((M,P))\n",
    "\n",
    "\n",
    "for m in range(M):\n",
    "    \n",
    "    e = random.rand()\n",
    "    tree[0] = outcomes[random.randint(0,2)]\n",
    "    \n",
    "    for i in range(n):\n",
    "        \n",
    "        p = random.rand()\n",
    "        if p < e:\n",
    "            tree[2*i + 1] = tree[i]\n",
    "        else:\n",
    "            tree[2*i + 1] = (-1.0)*tree[i]\n",
    "        #end\n",
    "        p = random.rand()\n",
    "        if p < e:\n",
    "            tree[2*i + 2] = tree[i]\n",
    "        else:\n",
    "            tree[2*i + 2] = (-1.0)*tree[i]\n",
    "        #end\n",
    "    #end\n",
    "    Y[m,:] = tree[n:]\n",
    "#end\n",
    "\n",
    "\n",
    "Y"
   ]
  },
  {
   "cell_type": "markdown",
   "metadata": {},
   "source": [
    "## Test shell\n",
    "Some useful Python caveats that you should bear in mind"
   ]
  },
  {
   "cell_type": "code",
   "execution_count": 91,
   "metadata": {},
   "outputs": [
    {
     "name": "stdout",
     "output_type": "stream",
     "text": [
      "[0, 1, 2, 3, 4, 5, 6, 7, 8, 9]\n",
      "[8 8 8 8 4]\n",
      "[[0. 0. 0. 0.]\n",
      " [0. 0. 0. 0.]\n",
      " [0. 0. 0. 0.]\n",
      " [0. 0. 0. 0.]]\n",
      "iter  0\n",
      "[5 3 2 8 2 1 4 3 8 7]\n",
      "iter  1\n",
      "[6 3 9 1 6 7 6 5 2 7]\n",
      "iter  2\n",
      "[1 2 5 3 2 3 3 1 3 8]\n",
      "iter  3\n",
      "[8 4 2 2 1 5 3 9 9 1]\n",
      " \n",
      "[[4. 3. 8. 7.]\n",
      " [6. 5. 2. 7.]\n",
      " [3. 1. 3. 8.]\n",
      " [3. 9. 9. 1.]]\n"
     ]
    }
   ],
   "source": [
    "k = [i for i in range(N)]\n",
    "\n",
    "#print(min(range(10)))\n",
    "#print(max(range(10)))\n",
    "\n",
    "outcomes = [-1,1]\n",
    "e = [outcomes[np.random.randint(0,2)] for i in range(10)]\n",
    "e\n",
    "\n",
    "uniSamples = [np.random.rand() for i in range(10)]\n",
    "uniSamples\n",
    "\n",
    "tree = np.zeros(10)\n",
    "tree = [np.random.rand() for i in range(10)]\n",
    "#print(tree)\n",
    "#print(tree[0])\n",
    "#print(tree[9])\n",
    "\n",
    "sample0 = [i for i in range(10)]\n",
    "print(sample0)\n",
    "print(sample[5:]) # quindi vuol dire [n:] : tutti gli i >= n, quindi posizione n inclusa\n",
    "\n",
    "Y = np.zeros((4,4))\n",
    "print(Y)\n",
    "for i in range(4):\n",
    "    print('iter ',i)\n",
    "    sample = np.random.randint(1,10,size=10)\n",
    "    print(sample)\n",
    "    Y[i,:] = sample[6:]\n",
    "#end\n",
    "print(' ')\n",
    "print(Y)"
   ]
  }
 ],
 "metadata": {
  "kernelspec": {
   "display_name": "Python 3",
   "language": "python",
   "name": "python3"
  },
  "language_info": {
   "codemirror_mode": {
    "name": "ipython",
    "version": 3
   },
   "file_extension": ".py",
   "mimetype": "text/x-python",
   "name": "python",
   "nbconvert_exporter": "python",
   "pygments_lexer": "ipython3",
   "version": "3.7.1"
  }
 },
 "nbformat": 4,
 "nbformat_minor": 2
}
