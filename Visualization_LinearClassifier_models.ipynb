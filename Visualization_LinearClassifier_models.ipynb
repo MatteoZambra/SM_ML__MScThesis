{
 "cells": [
  {
   "cell_type": "markdown",
   "metadata": {},
   "source": [
    "# SVM classifier model"
   ]
  },
  {
   "cell_type": "markdown",
   "metadata": {},
   "source": [
    "## Preprocessing, Visualisation\n",
    "\n",
    "Visualisation renders insight gain ease. By the way, two dimensional reduction allows visualisation ease but is not granted that preprocessed data yield better results."
   ]
  },
  {
   "cell_type": "code",
   "execution_count": 1,
   "metadata": {},
   "outputs": [],
   "source": [
    "from sklearn.preprocessing import StandardScaler\n",
    "from sklearn.decomposition import PCA\n",
    "from sklearn.model_selection import train_test_split\n",
    "from sklearn.metrics import accuracy_score\n",
    "from sklearn import svm\n",
    "from sklearn.metrics import classification_report, confusion_matrix\n",
    "from sklearn import tree\n",
    "\n",
    "\n",
    "import pickle\n",
    "\n",
    "import pandas as pd\n",
    "import numpy as np\n",
    "import matplotlib.pyplot as plt"
   ]
  },
  {
   "cell_type": "code",
   "execution_count": 82,
   "metadata": {},
   "outputs": [
    {
     "name": "stdout",
     "output_type": "stream",
     "text": [
      "<class 'numpy.ndarray'>  Dim:  (2000, 31) \n",
      " [[ 1.  1. -1. ... -1. -1. -1.]\n",
      " [ 1.  1. -1. ... -1. -1. -1.]\n",
      " [ 1.  1. -1. ... -1. -1. -1.]\n",
      " ...\n",
      " [ 1.  1. -1. ... -1. -1. -1.]\n",
      " [ 1.  1. -1. ... -1. -1. -1.]\n",
      " [-1. -1.  1. ... -1. -1. -1.]]\n",
      "<class 'numpy.ndarray'>  Dim:  (2000, 4) \n",
      " [[1. 0. 0. 0.]\n",
      " [1. 0. 0. 0.]\n",
      " [0. 1. 0. 0.]\n",
      " ...\n",
      " [1. 0. 0. 0.]\n",
      " [1. 0. 0. 0.]\n",
      " [0. 0. 1. 0.]]\n",
      "\n",
      "\n"
     ]
    },
    {
     "data": {
      "text/plain": [
       "array([1, 2, 3, 4])"
      ]
     },
     "execution_count": 82,
     "metadata": {},
     "output_type": "execute_result"
    }
   ],
   "source": [
    "dataSet_clean = True\n",
    "\n",
    "if (dataSet_clean == True):\n",
    "    fileID = open(r'C:\\Users\\Matteo\\Desktop\\MasterThesis\\newThread\\DS_model\\DataSet_list_clean.pkl', 'rb')\n",
    "else:\n",
    "    fileID = open(r'C:\\Users\\Matteo\\Desktop\\MasterThesis\\newThread\\DS_model\\DataSet_list_noised.pkl', 'rb')\n",
    "#end\n",
    "\n",
    "DataSet = pickle.load(fileID)\n",
    "fileID.close()\n",
    "\n",
    "X = DataSet[0]\n",
    "Y = DataSet[1]\n",
    "\n",
    "print(type(X),\" Dim: \",X.shape,\"\\n\",X)\n",
    "print(type(Y),\" Dim: \",Y.shape,\"\\n\",Y)\n",
    "print(\"\\n\")\n",
    "\n",
    "y = np.asarray([[j+1 for j in range(Y.shape[1]) if Y[i,j] != 0] for i in range(X.shape[0])]).astype(int)\n",
    "\n",
    "dataSet = np.concatenate( (X, y) , axis = 1)\n",
    "dataSet\n",
    "np.unique(y)"
   ]
  },
  {
   "cell_type": "markdown",
   "metadata": {},
   "source": [
    "[PCA for viz and prepr sake](\"https://towardsdatascience.com/pca-using-python-scikit-learn-e653f8989e60\")"
   ]
  },
  {
   "cell_type": "code",
   "execution_count": 78,
   "metadata": {},
   "outputs": [],
   "source": [
    "rawData = pd.DataFrame(dataSet)\n",
    "lastIDX = X.shape[1]\n",
    "rawData.rename(columns = {lastIDX : 'Label'}, inplace = True)"
   ]
  },
  {
   "cell_type": "code",
   "execution_count": 79,
   "metadata": {},
   "outputs": [],
   "source": [
    "sc = StandardScaler()\n",
    "X_ = sc.fit_transform(X)\n",
    "\n",
    "pca = PCA(n_components = 2)\n",
    "princComp_X = pca.fit_transform(X_)\n",
    "\n",
    "princComp_df = pd.DataFrame(princComp_X, columns = ['PrincipalComponent 1', 'PrincipalComponent 2'])\n",
    "princComp_df = pd.concat([princComp_df, rawData[['Label']]], axis = 1)"
   ]
  },
  {
   "cell_type": "code",
   "execution_count": 80,
   "metadata": {},
   "outputs": [],
   "source": [
    "targets = np.asarray(princComp_df.loc[:,['Label']])\n",
    "targetSorted = np.unique(targets)"
   ]
  },
  {
   "cell_type": "code",
   "execution_count": 81,
   "metadata": {},
   "outputs": [
    {
     "data": {
      "image/png": "[encoded data removed]",
      "text/plain": [
       "<Figure size 720x576 with 1 Axes>"
      ]
     },
     "metadata": {
      "needs_background": "light"
     },
     "output_type": "display_data"
    }
   ],
   "source": [
    "fg1 = plt.figure(figsize=(10,8))\n",
    "ax = fg1.add_subplot(1,1,1)\n",
    "ax.set_xlabel('Principal Component 1', fontsize = 15)\n",
    "ax.set_ylabel('Principal Component 2', fontsize = 15)\n",
    "ax.set_title('2 component PCA', fontsize = 20)\n",
    "\n",
    "for trgt in np.unique(targets):\n",
    "    idxKeep = princComp_df['Label'] == trgt\n",
    "    ax.scatter(princComp_df.loc[idxKeep, 'PrincipalComponent 1'],\n",
    "               princComp_df.loc[idxKeep, 'PrincipalComponent 2'],\n",
    "               s = 30)\n",
    "#end\n",
    "#ax.legend(np.unique(targets).astype(int))"
   ]
  },
  {
   "cell_type": "markdown",
   "metadata": {},
   "source": [
    "## SVM classification\n",
    "\n",
    "Preventively check whether or not data is linearly separable. \n",
    "In two dimensions it looks that data are such only for $L = 1$ that is two categories."
   ]
  },
  {
   "cell_type": "code",
   "execution_count": 83,
   "metadata": {},
   "outputs": [
    {
     "name": "stdout",
     "output_type": "stream",
     "text": [
      "[LibSVM]"
     ]
    },
    {
     "data": {
      "text/plain": [
       "SVC(C=1.0, cache_size=200, class_weight=None, coef0=0.0,\n",
       "  decision_function_shape='ovr', degree=3, gamma='auto', kernel='linear',\n",
       "  max_iter=-1, probability=False, random_state=None, shrinking=True,\n",
       "  tol=0.001, verbose=True)"
      ]
     },
     "execution_count": 83,
     "metadata": {},
     "output_type": "execute_result"
    }
   ],
   "source": [
    "Xtrain, Xtest, Ytrain, Ytest = train_test_split(X, y, test_size = 0.3, random_state = 33)\n",
    "Ytrain = np.ravel(Ytrain)\n",
    "Ytest = np.ravel(Ytest)\n",
    "\n",
    "clfSVM = svm.SVC(kernel='linear', gamma='auto', verbose=True)\n",
    "clfSVM.fit(Xtrain, Ytrain)"
   ]
  },
  {
   "cell_type": "code",
   "execution_count": 84,
   "metadata": {},
   "outputs": [
    {
     "name": "stdout",
     "output_type": "stream",
     "text": [
      "1.0\n",
      "1.0\n"
     ]
    }
   ],
   "source": [
    "yPred = clfSVM.predict(Xtest)\n",
    "scores = clfSVM.score(Xtest, Ytest)\n",
    "print(scores)\n",
    "print(accuracy_score(Ytest,yPred))"
   ]
  },
  {
   "cell_type": "code",
   "execution_count": 85,
   "metadata": {},
   "outputs": [
    {
     "name": "stdout",
     "output_type": "stream",
     "text": [
      "[[204   0   0   0]\n",
      " [  0  93   0   0]\n",
      " [  0   0 101   0]\n",
      " [  0   0   0 202]]\n",
      "              precision    recall  f1-score   support\n",
      "\n",
      "           1       1.00      1.00      1.00       204\n",
      "           2       1.00      1.00      1.00        93\n",
      "           3       1.00      1.00      1.00       101\n",
      "           4       1.00      1.00      1.00       202\n",
      "\n",
      "   micro avg       1.00      1.00      1.00       600\n",
      "   macro avg       1.00      1.00      1.00       600\n",
      "weighted avg       1.00      1.00      1.00       600\n",
      "\n"
     ]
    }
   ],
   "source": [
    "print(confusion_matrix(Ytest, yPred))\n",
    "print(classification_report(Ytest, yPred, labels = np.unique(yPred)))"
   ]
  },
  {
   "cell_type": "code",
   "execution_count": 86,
   "metadata": {},
   "outputs": [
    {
     "data": {
      "text/plain": [
       "array([1, 2, 3, 4])"
      ]
     },
     "execution_count": 86,
     "metadata": {},
     "output_type": "execute_result"
    }
   ],
   "source": [
    "np.unique(Ytest)"
   ]
  },
  {
   "cell_type": "code",
   "execution_count": 87,
   "metadata": {},
   "outputs": [
    {
     "data": {
      "text/plain": [
       "array([1, 2, 3, 4])"
      ]
     },
     "execution_count": 87,
     "metadata": {},
     "output_type": "execute_result"
    }
   ],
   "source": [
    "np.unique(yPred)"
   ]
  },
  {
   "cell_type": "markdown",
   "metadata": {},
   "source": [
    "## Tree Classification\n",
    "\n",
    "Anche con data set non preprocessato"
   ]
  },
  {
   "cell_type": "code",
   "execution_count": 88,
   "metadata": {},
   "outputs": [
    {
     "data": {
      "text/plain": [
       "DecisionTreeClassifier(class_weight=None, criterion='gini', max_depth=None,\n",
       "            max_features=None, max_leaf_nodes=None,\n",
       "            min_impurity_decrease=0.0, min_impurity_split=None,\n",
       "            min_samples_leaf=1, min_samples_split=2,\n",
       "            min_weight_fraction_leaf=0.0, presort=False, random_state=None,\n",
       "            splitter='best')"
      ]
     },
     "execution_count": 88,
     "metadata": {},
     "output_type": "execute_result"
    }
   ],
   "source": [
    "Xtrain, Xtest, Ytrain, Ytest = train_test_split(X, y, test_size = 0.3, random_state = 33)\n",
    "Ytrain = np.ravel(Ytrain)\n",
    "Ytest = np.ravel(Ytest)\n",
    "\n",
    "clfTree = tree.DecisionTreeClassifier()\n",
    "clfTree.fit(Xtrain, Ytrain)"
   ]
  },
  {
   "cell_type": "code",
   "execution_count": 89,
   "metadata": {},
   "outputs": [
    {
     "name": "stdout",
     "output_type": "stream",
     "text": [
      "1.0\n"
     ]
    }
   ],
   "source": [
    "yPred = clfTree.predict(Xtest)\n",
    "\n",
    "print(accuracy_score(Ytest,yPred))"
   ]
  },
  {
   "cell_type": "code",
   "execution_count": 52,
   "metadata": {
    "scrolled": false
   },
   "outputs": [
    {
     "data": {
      "image/svg+xml": [
       "<?xml version=\"1.0\" encoding=\"UTF-8\" standalone=\"no\"?>\r\n",
       "<!DOCTYPE svg PUBLIC \"-//W3C//DTD SVG 1.1//EN\"\r\n",
       " \"http://www.w3.org/Graphics/SVG/1.1/DTD/svg11.dtd\">\r\n",
       "<!-- Generated by graphviz version 2.38.0 (20140413.2041)\r\n",
       " -->\r\n",
       "<!-- Title: Tree Pages: 1 -->\r\n",
       "<svg width=\"2924pt\" height=\"1786pt\"\r\n",
       " viewBox=\"0.00 0.00 2923.50 1786.00\" xmlns=\"http://www.w3.org/2000/svg\" xmlns:xlink=\"http://www.w3.org/1999/xlink\">\r\n",
       "<g id=\"graph0\" class=\"graph\" transform=\"scale(1 1) rotate(0) translate(4 1782)\">\r\n",
       "<title>Tree</title>\r\n",
       "<polygon fill=\"white\" stroke=\"none\" points=\"-4,4 -4,-1782 2919.5,-1782 2919.5,4 -4,4\"/>\r\n",
       "<!-- 0 -->\r\n",
       "<g id=\"node1\" class=\"node\"><title>0</title>\r\n",
       "<path fill=\"#47e539\" fill-opacity=\"0.023529\" stroke=\"black\" d=\"M2769,-1778C2769,-1778 2407,-1778 2407,-1778 2401,-1778 2395,-1772 2395,-1766 2395,-1766 2395,-1712 2395,-1712 2395,-1706 2401,-1700 2407,-1700 2407,-1700 2769,-1700 2769,-1700 2775,-1700 2781,-1706 2781,-1712 2781,-1712 2781,-1766 2781,-1766 2781,-1772 2775,-1778 2769,-1778\"/>\r\n",
       "<text text-anchor=\"start\" x=\"2558\" y=\"-1763.8\" font-family=\"Helvetica,sans-Serif\" font-size=\"14.00\">X</text>\r\n",
       "<text text-anchor=\"start\" x=\"2568\" y=\"-1763.8\" font-family=\"Helvetica,sans-Serif\" baseline-shift=\"sub\" font-size=\"14.00\">15</text>\r\n",
       "<text text-anchor=\"start\" x=\"2582\" y=\"-1763.8\" font-family=\"Helvetica,sans-Serif\" font-size=\"14.00\"> ≤ 0.0</text>\r\n",
       "<text text-anchor=\"start\" x=\"2550\" y=\"-1749.8\" font-family=\"Helvetica,sans-Serif\" font-size=\"14.00\">gini = 0.907</text>\r\n",
       "<text text-anchor=\"start\" x=\"2536\" y=\"-1735.8\" font-family=\"Helvetica,sans-Serif\" font-size=\"14.00\">samples = 1400</text>\r\n",
       "<text text-anchor=\"start\" x=\"2403\" y=\"-1721.8\" font-family=\"Helvetica,sans-Serif\" font-size=\"14.00\">value = [107, 13, 99, 107, 236, 102, 120, 58, 45, 103, 208</text>\r\n",
       "<text text-anchor=\"start\" x=\"2529.5\" y=\"-1707.8\" font-family=\"Helvetica,sans-Serif\" font-size=\"14.00\">48, 53, 46, 33, 22]</text>\r\n",
       "</g>\r\n",
       "<!-- 1 -->\r\n",
       "<g id=\"node2\" class=\"node\"><title>1</title>\r\n",
       "<path fill=\"#5639e5\" fill-opacity=\"0.082353\" stroke=\"black\" d=\"M2584.5,-1664C2584.5,-1664 2239.5,-1664 2239.5,-1664 2233.5,-1664 2227.5,-1658 2227.5,-1652 2227.5,-1652 2227.5,-1598 2227.5,-1598 2227.5,-1592 2233.5,-1586 2239.5,-1586 2239.5,-1586 2584.5,-1586 2584.5,-1586 2590.5,-1586 2596.5,-1592 2596.5,-1598 2596.5,-1598 2596.5,-1652 2596.5,-1652 2596.5,-1658 2590.5,-1664 2584.5,-1664\"/>\r\n",
       "<text text-anchor=\"start\" x=\"2382\" y=\"-1649.8\" font-family=\"Helvetica,sans-Serif\" font-size=\"14.00\">X</text>\r\n",
       "<text text-anchor=\"start\" x=\"2392\" y=\"-1649.8\" font-family=\"Helvetica,sans-Serif\" baseline-shift=\"sub\" font-size=\"14.00\">23</text>\r\n",
       "<text text-anchor=\"start\" x=\"2406\" y=\"-1649.8\" font-family=\"Helvetica,sans-Serif\" font-size=\"14.00\"> ≤ 0.0</text>\r\n",
       "<text text-anchor=\"start\" x=\"2374\" y=\"-1635.8\" font-family=\"Helvetica,sans-Serif\" font-size=\"14.00\">gini = 0.907</text>\r\n",
       "<text text-anchor=\"start\" x=\"2360\" y=\"-1621.8\" font-family=\"Helvetica,sans-Serif\" font-size=\"14.00\">samples = 1164</text>\r\n",
       "<text text-anchor=\"start\" x=\"2235.5\" y=\"-1607.8\" font-family=\"Helvetica,sans-Serif\" font-size=\"14.00\">value = [107, 13, 99, 107, 0, 102, 120, 58, 45, 103, 208</text>\r\n",
       "<text text-anchor=\"start\" x=\"2353.5\" y=\"-1593.8\" font-family=\"Helvetica,sans-Serif\" font-size=\"14.00\">48, 53, 46, 33, 22]</text>\r\n",
       "</g>\r\n",
       "<!-- 0&#45;&gt;1 -->\r\n",
       "<g id=\"edge1\" class=\"edge\"><title>0&#45;&gt;1</title>\r\n",
       "<path fill=\"none\" stroke=\"black\" d=\"M2527.92,-1699.77C2512.63,-1690.04 2496.08,-1679.51 2480.41,-1669.53\"/>\r\n",
       "<polygon fill=\"black\" stroke=\"black\" points=\"2482.12,-1666.47 2471.81,-1664.06 2478.36,-1672.38 2482.12,-1666.47\"/>\r\n",
       "<text text-anchor=\"middle\" x=\"2477.23\" y=\"-1684.76\" font-family=\"Helvetica,sans-Serif\" font-size=\"14.00\">True</text>\r\n",
       "</g>\r\n",
       "<!-- 30 -->\r\n",
       "<g id=\"node31\" class=\"node\"><title>30</title>\r\n",
       "<path fill=\"#47e539\" stroke=\"black\" d=\"M2903.5,-1659C2903.5,-1659 2626.5,-1659 2626.5,-1659 2620.5,-1659 2614.5,-1653 2614.5,-1647 2614.5,-1647 2614.5,-1603 2614.5,-1603 2614.5,-1597 2620.5,-1591 2626.5,-1591 2626.5,-1591 2903.5,-1591 2903.5,-1591 2909.5,-1591 2915.5,-1597 2915.5,-1603 2915.5,-1603 2915.5,-1647 2915.5,-1647 2915.5,-1653 2909.5,-1659 2903.5,-1659\"/>\r\n",
       "<text text-anchor=\"start\" x=\"2735.5\" y=\"-1643.8\" font-family=\"Helvetica,sans-Serif\" font-size=\"14.00\">gini = 0.0</text>\r\n",
       "<text text-anchor=\"start\" x=\"2717\" y=\"-1628.8\" font-family=\"Helvetica,sans-Serif\" font-size=\"14.00\">samples = 236</text>\r\n",
       "<text text-anchor=\"start\" x=\"2622.5\" y=\"-1613.8\" font-family=\"Helvetica,sans-Serif\" font-size=\"14.00\">value = [0, 0, 0, 0, 236, 0, 0, 0, 0, 0, 0, 0, 0, 0</text>\r\n",
       "<text text-anchor=\"start\" x=\"2751\" y=\"-1598.8\" font-family=\"Helvetica,sans-Serif\" font-size=\"14.00\">0, 0]</text>\r\n",
       "</g>\r\n",
       "<!-- 0&#45;&gt;30 -->\r\n",
       "<g id=\"edge30\" class=\"edge\"><title>0&#45;&gt;30</title>\r\n",
       "<path fill=\"none\" stroke=\"black\" d=\"M2648.42,-1699.77C2666.41,-1688.39 2686.12,-1675.91 2704.14,-1664.51\"/>\r\n",
       "<polygon fill=\"black\" stroke=\"black\" points=\"2706.25,-1667.32 2712.83,-1659.01 2702.51,-1661.4 2706.25,-1667.32\"/>\r\n",
       "<text text-anchor=\"middle\" x=\"2707.34\" y=\"-1679.7\" font-family=\"Helvetica,sans-Serif\" font-size=\"14.00\">False</text>\r\n",
       "</g>\r\n",
       "<!-- 2 -->\r\n",
       "<g id=\"node3\" class=\"node\"><title>2</title>\r\n",
       "<path fill=\"#39e5ac\" fill-opacity=\"0.015686\" stroke=\"black\" d=\"M2404.5,-1550C2404.5,-1550 2075.5,-1550 2075.5,-1550 2069.5,-1550 2063.5,-1544 2063.5,-1538 2063.5,-1538 2063.5,-1484 2063.5,-1484 2063.5,-1478 2069.5,-1472 2075.5,-1472 2075.5,-1472 2404.5,-1472 2404.5,-1472 2410.5,-1472 2416.5,-1478 2416.5,-1484 2416.5,-1484 2416.5,-1538 2416.5,-1538 2416.5,-1544 2410.5,-1550 2404.5,-1550\"/>\r\n",
       "<text text-anchor=\"start\" x=\"2210\" y=\"-1535.8\" font-family=\"Helvetica,sans-Serif\" font-size=\"14.00\">X</text>\r\n",
       "<text text-anchor=\"start\" x=\"2220\" y=\"-1535.8\" font-family=\"Helvetica,sans-Serif\" baseline-shift=\"sub\" font-size=\"14.00\">24</text>\r\n",
       "<text text-anchor=\"start\" x=\"2234\" y=\"-1535.8\" font-family=\"Helvetica,sans-Serif\" font-size=\"14.00\"> ≤ 0.0</text>\r\n",
       "<text text-anchor=\"start\" x=\"2206.5\" y=\"-1521.8\" font-family=\"Helvetica,sans-Serif\" font-size=\"14.00\">gini = 0.91</text>\r\n",
       "<text text-anchor=\"start\" x=\"2192\" y=\"-1507.8\" font-family=\"Helvetica,sans-Serif\" font-size=\"14.00\">samples = 956</text>\r\n",
       "<text text-anchor=\"start\" x=\"2071.5\" y=\"-1493.8\" font-family=\"Helvetica,sans-Serif\" font-size=\"14.00\">value = [107, 13, 99, 107, 0, 102, 120, 58, 45, 103, 0</text>\r\n",
       "<text text-anchor=\"start\" x=\"2181.5\" y=\"-1479.8\" font-family=\"Helvetica,sans-Serif\" font-size=\"14.00\">48, 53, 46, 33, 22]</text>\r\n",
       "</g>\r\n",
       "<!-- 1&#45;&gt;2 -->\r\n",
       "<g id=\"edge2\" class=\"edge\"><title>1&#45;&gt;2</title>\r\n",
       "<path fill=\"none\" stroke=\"black\" d=\"M2353.29,-1585.77C2338.34,-1576.04 2322.17,-1565.51 2306.86,-1555.53\"/>\r\n",
       "<polygon fill=\"black\" stroke=\"black\" points=\"2308.74,-1552.58 2298.45,-1550.06 2304.92,-1558.45 2308.74,-1552.58\"/>\r\n",
       "</g>\r\n",
       "<!-- 29 -->\r\n",
       "<g id=\"node30\" class=\"node\"><title>29</title>\r\n",
       "<path fill=\"#5639e5\" stroke=\"black\" d=\"M2723.5,-1545C2723.5,-1545 2446.5,-1545 2446.5,-1545 2440.5,-1545 2434.5,-1539 2434.5,-1533 2434.5,-1533 2434.5,-1489 2434.5,-1489 2434.5,-1483 2440.5,-1477 2446.5,-1477 2446.5,-1477 2723.5,-1477 2723.5,-1477 2729.5,-1477 2735.5,-1483 2735.5,-1489 2735.5,-1489 2735.5,-1533 2735.5,-1533 2735.5,-1539 2729.5,-1545 2723.5,-1545\"/>\r\n",
       "<text text-anchor=\"start\" x=\"2555.5\" y=\"-1529.8\" font-family=\"Helvetica,sans-Serif\" font-size=\"14.00\">gini = 0.0</text>\r\n",
       "<text text-anchor=\"start\" x=\"2537\" y=\"-1514.8\" font-family=\"Helvetica,sans-Serif\" font-size=\"14.00\">samples = 208</text>\r\n",
       "<text text-anchor=\"start\" x=\"2442.5\" y=\"-1499.8\" font-family=\"Helvetica,sans-Serif\" font-size=\"14.00\">value = [0, 0, 0, 0, 0, 0, 0, 0, 0, 0, 208, 0, 0, 0</text>\r\n",
       "<text text-anchor=\"start\" x=\"2571\" y=\"-1484.8\" font-family=\"Helvetica,sans-Serif\" font-size=\"14.00\">0, 0]</text>\r\n",
       "</g>\r\n",
       "<!-- 1&#45;&gt;29 -->\r\n",
       "<g id=\"edge29\" class=\"edge\"><title>1&#45;&gt;29</title>\r\n",
       "<path fill=\"none\" stroke=\"black\" d=\"M2471.05,-1585.77C2488.63,-1574.39 2507.9,-1561.91 2525.51,-1550.51\"/>\r\n",
       "<polygon fill=\"black\" stroke=\"black\" points=\"2527.51,-1553.39 2534.01,-1545.01 2523.71,-1547.51 2527.51,-1553.39\"/>\r\n",
       "</g>\r\n",
       "<!-- 3 -->\r\n",
       "<g id=\"node4\" class=\"node\"><title>3</title>\r\n",
       "<path fill=\"none\" stroke=\"black\" d=\"M2234,-1436C2234,-1436 1898,-1436 1898,-1436 1892,-1436 1886,-1430 1886,-1424 1886,-1424 1886,-1370 1886,-1370 1886,-1364 1892,-1358 1898,-1358 1898,-1358 2234,-1358 2234,-1358 2240,-1358 2246,-1364 2246,-1370 2246,-1370 2246,-1424 2246,-1424 2246,-1430 2240,-1436 2234,-1436\"/>\r\n",
       "<text text-anchor=\"start\" x=\"2036\" y=\"-1421.8\" font-family=\"Helvetica,sans-Serif\" font-size=\"14.00\">X</text>\r\n",
       "<text text-anchor=\"start\" x=\"2046\" y=\"-1421.8\" font-family=\"Helvetica,sans-Serif\" baseline-shift=\"sub\" font-size=\"14.00\">16</text>\r\n",
       "<text text-anchor=\"start\" x=\"2060\" y=\"-1421.8\" font-family=\"Helvetica,sans-Serif\" font-size=\"14.00\"> ≤ 0.0</text>\r\n",
       "<text text-anchor=\"start\" x=\"2028\" y=\"-1407.8\" font-family=\"Helvetica,sans-Serif\" font-size=\"14.00\">gini = 0.903</text>\r\n",
       "<text text-anchor=\"start\" x=\"2018\" y=\"-1393.8\" font-family=\"Helvetica,sans-Serif\" font-size=\"14.00\">samples = 836</text>\r\n",
       "<text text-anchor=\"start\" x=\"1894\" y=\"-1379.8\" font-family=\"Helvetica,sans-Serif\" font-size=\"14.00\">value = [107, 13, 99, 107, 0, 102, 0, 58, 45, 103, 0, 48</text>\r\n",
       "<text text-anchor=\"start\" x=\"2019.5\" y=\"-1365.8\" font-family=\"Helvetica,sans-Serif\" font-size=\"14.00\">53, 46, 33, 22]</text>\r\n",
       "</g>\r\n",
       "<!-- 2&#45;&gt;3 -->\r\n",
       "<g id=\"edge3\" class=\"edge\"><title>2&#45;&gt;3</title>\r\n",
       "<path fill=\"none\" stroke=\"black\" d=\"M2180.61,-1471.77C2165.49,-1462.04 2149.13,-1451.51 2133.63,-1441.53\"/>\r\n",
       "<polygon fill=\"black\" stroke=\"black\" points=\"2135.43,-1438.53 2125.13,-1436.06 2131.64,-1444.41 2135.43,-1438.53\"/>\r\n",
       "</g>\r\n",
       "<!-- 28 -->\r\n",
       "<g id=\"node29\" class=\"node\"><title>28</title>\r\n",
       "<path fill=\"#39e5ac\" stroke=\"black\" d=\"M2553.5,-1431C2553.5,-1431 2276.5,-1431 2276.5,-1431 2270.5,-1431 2264.5,-1425 2264.5,-1419 2264.5,-1419 2264.5,-1375 2264.5,-1375 2264.5,-1369 2270.5,-1363 2276.5,-1363 2276.5,-1363 2553.5,-1363 2553.5,-1363 2559.5,-1363 2565.5,-1369 2565.5,-1375 2565.5,-1375 2565.5,-1419 2565.5,-1419 2565.5,-1425 2559.5,-1431 2553.5,-1431\"/>\r\n",
       "<text text-anchor=\"start\" x=\"2385.5\" y=\"-1415.8\" font-family=\"Helvetica,sans-Serif\" font-size=\"14.00\">gini = 0.0</text>\r\n",
       "<text text-anchor=\"start\" x=\"2367\" y=\"-1400.8\" font-family=\"Helvetica,sans-Serif\" font-size=\"14.00\">samples = 120</text>\r\n",
       "<text text-anchor=\"start\" x=\"2272.5\" y=\"-1385.8\" font-family=\"Helvetica,sans-Serif\" font-size=\"14.00\">value = [0, 0, 0, 0, 0, 0, 120, 0, 0, 0, 0, 0, 0, 0</text>\r\n",
       "<text text-anchor=\"start\" x=\"2401\" y=\"-1370.8\" font-family=\"Helvetica,sans-Serif\" font-size=\"14.00\">0, 0]</text>\r\n",
       "</g>\r\n",
       "<!-- 2&#45;&gt;28 -->\r\n",
       "<g id=\"edge28\" class=\"edge\"><title>2&#45;&gt;28</title>\r\n",
       "<path fill=\"none\" stroke=\"black\" d=\"M2299.74,-1471.77C2317.52,-1460.39 2337.01,-1447.91 2354.82,-1436.51\"/>\r\n",
       "<polygon fill=\"black\" stroke=\"black\" points=\"2356.88,-1439.35 2363.42,-1431.01 2353.11,-1433.46 2356.88,-1439.35\"/>\r\n",
       "</g>\r\n",
       "<!-- 4 -->\r\n",
       "<g id=\"node5\" class=\"node\"><title>4</title>\r\n",
       "<path fill=\"#89e539\" fill-opacity=\"0.007843\" stroke=\"black\" d=\"M2056,-1322C2056,-1322 1736,-1322 1736,-1322 1730,-1322 1724,-1316 1724,-1310 1724,-1310 1724,-1256 1724,-1256 1724,-1250 1730,-1244 1736,-1244 1736,-1244 2056,-1244 2056,-1244 2062,-1244 2068,-1250 2068,-1256 2068,-1256 2068,-1310 2068,-1310 2068,-1316 2062,-1322 2056,-1322\"/>\r\n",
       "<text text-anchor=\"start\" x=\"1866\" y=\"-1307.8\" font-family=\"Helvetica,sans-Serif\" font-size=\"14.00\">X</text>\r\n",
       "<text text-anchor=\"start\" x=\"1876\" y=\"-1307.8\" font-family=\"Helvetica,sans-Serif\" baseline-shift=\"sub\" font-size=\"14.00\">27</text>\r\n",
       "<text text-anchor=\"start\" x=\"1890\" y=\"-1307.8\" font-family=\"Helvetica,sans-Serif\" font-size=\"14.00\"> ≤ 0.0</text>\r\n",
       "<text text-anchor=\"start\" x=\"1858\" y=\"-1293.8\" font-family=\"Helvetica,sans-Serif\" font-size=\"14.00\">gini = 0.893</text>\r\n",
       "<text text-anchor=\"start\" x=\"1848\" y=\"-1279.8\" font-family=\"Helvetica,sans-Serif\" font-size=\"14.00\">samples = 729</text>\r\n",
       "<text text-anchor=\"start\" x=\"1732\" y=\"-1265.8\" font-family=\"Helvetica,sans-Serif\" font-size=\"14.00\">value = [0, 13, 99, 107, 0, 102, 0, 58, 45, 103, 0, 48</text>\r\n",
       "<text text-anchor=\"start\" x=\"1849.5\" y=\"-1251.8\" font-family=\"Helvetica,sans-Serif\" font-size=\"14.00\">53, 46, 33, 22]</text>\r\n",
       "</g>\r\n",
       "<!-- 3&#45;&gt;4 -->\r\n",
       "<g id=\"edge4\" class=\"edge\"><title>3&#45;&gt;4</title>\r\n",
       "<path fill=\"none\" stroke=\"black\" d=\"M2007.97,-1357.77C1993.34,-1348.13 1977.51,-1337.7 1962.5,-1327.81\"/>\r\n",
       "<polygon fill=\"black\" stroke=\"black\" points=\"1964.04,-1324.64 1953.77,-1322.06 1960.19,-1330.48 1964.04,-1324.64\"/>\r\n",
       "</g>\r\n",
       "<!-- 27 -->\r\n",
       "<g id=\"node28\" class=\"node\"><title>27</title>\r\n",
       "<path fill=\"#e58139\" stroke=\"black\" d=\"M2375.5,-1317C2375.5,-1317 2098.5,-1317 2098.5,-1317 2092.5,-1317 2086.5,-1311 2086.5,-1305 2086.5,-1305 2086.5,-1261 2086.5,-1261 2086.5,-1255 2092.5,-1249 2098.5,-1249 2098.5,-1249 2375.5,-1249 2375.5,-1249 2381.5,-1249 2387.5,-1255 2387.5,-1261 2387.5,-1261 2387.5,-1305 2387.5,-1305 2387.5,-1311 2381.5,-1317 2375.5,-1317\"/>\r\n",
       "<text text-anchor=\"start\" x=\"2207.5\" y=\"-1301.8\" font-family=\"Helvetica,sans-Serif\" font-size=\"14.00\">gini = 0.0</text>\r\n",
       "<text text-anchor=\"start\" x=\"2189\" y=\"-1286.8\" font-family=\"Helvetica,sans-Serif\" font-size=\"14.00\">samples = 107</text>\r\n",
       "<text text-anchor=\"start\" x=\"2094.5\" y=\"-1271.8\" font-family=\"Helvetica,sans-Serif\" font-size=\"14.00\">value = [107, 0, 0, 0, 0, 0, 0, 0, 0, 0, 0, 0, 0, 0</text>\r\n",
       "<text text-anchor=\"start\" x=\"2223\" y=\"-1256.8\" font-family=\"Helvetica,sans-Serif\" font-size=\"14.00\">0, 0]</text>\r\n",
       "</g>\r\n",
       "<!-- 3&#45;&gt;27 -->\r\n",
       "<g id=\"edge27\" class=\"edge\"><title>3&#45;&gt;27</title>\r\n",
       "<path fill=\"none\" stroke=\"black\" d=\"M2124.37,-1357.77C2141.75,-1346.39 2160.79,-1333.91 2178.2,-1322.51\"/>\r\n",
       "<polygon fill=\"black\" stroke=\"black\" points=\"2180.15,-1325.42 2186.6,-1317.01 2176.31,-1319.56 2180.15,-1325.42\"/>\r\n",
       "</g>\r\n",
       "<!-- 5 -->\r\n",
       "<g id=\"node6\" class=\"node\"><title>5</title>\r\n",
       "<path fill=\"none\" stroke=\"black\" d=\"M1881.5,-1208C1881.5,-1208 1578.5,-1208 1578.5,-1208 1572.5,-1208 1566.5,-1202 1566.5,-1196 1566.5,-1196 1566.5,-1142 1566.5,-1142 1566.5,-1136 1572.5,-1130 1578.5,-1130 1578.5,-1130 1881.5,-1130 1881.5,-1130 1887.5,-1130 1893.5,-1136 1893.5,-1142 1893.5,-1142 1893.5,-1196 1893.5,-1196 1893.5,-1202 1887.5,-1208 1881.5,-1208\"/>\r\n",
       "<text text-anchor=\"start\" x=\"1700\" y=\"-1193.8\" font-family=\"Helvetica,sans-Serif\" font-size=\"14.00\">X</text>\r\n",
       "<text text-anchor=\"start\" x=\"1710\" y=\"-1193.8\" font-family=\"Helvetica,sans-Serif\" baseline-shift=\"sub\" font-size=\"14.00\">19</text>\r\n",
       "<text text-anchor=\"start\" x=\"1724\" y=\"-1193.8\" font-family=\"Helvetica,sans-Serif\" font-size=\"14.00\"> ≤ 0.0</text>\r\n",
       "<text text-anchor=\"start\" x=\"1692\" y=\"-1179.8\" font-family=\"Helvetica,sans-Serif\" font-size=\"14.00\">gini = 0.883</text>\r\n",
       "<text text-anchor=\"start\" x=\"1682\" y=\"-1165.8\" font-family=\"Helvetica,sans-Serif\" font-size=\"14.00\">samples = 622</text>\r\n",
       "<text text-anchor=\"start\" x=\"1574.5\" y=\"-1151.8\" font-family=\"Helvetica,sans-Serif\" font-size=\"14.00\">value = [0, 13, 99, 0, 0, 102, 0, 58, 45, 103, 0, 48</text>\r\n",
       "<text text-anchor=\"start\" x=\"1683.5\" y=\"-1137.8\" font-family=\"Helvetica,sans-Serif\" font-size=\"14.00\">53, 46, 33, 22]</text>\r\n",
       "</g>\r\n",
       "<!-- 4&#45;&gt;5 -->\r\n",
       "<g id=\"edge5\" class=\"edge\"><title>4&#45;&gt;5</title>\r\n",
       "<path fill=\"none\" stroke=\"black\" d=\"M1839.34,-1243.77C1825.05,-1234.13 1809.6,-1223.7 1794.93,-1213.81\"/>\r\n",
       "<polygon fill=\"black\" stroke=\"black\" points=\"1796.66,-1210.75 1786.41,-1208.06 1792.74,-1216.55 1796.66,-1210.75\"/>\r\n",
       "</g>\r\n",
       "<!-- 26 -->\r\n",
       "<g id=\"node27\" class=\"node\"><title>26</title>\r\n",
       "<path fill=\"#89e539\" stroke=\"black\" d=\"M2200.5,-1203C2200.5,-1203 1923.5,-1203 1923.5,-1203 1917.5,-1203 1911.5,-1197 1911.5,-1191 1911.5,-1191 1911.5,-1147 1911.5,-1147 1911.5,-1141 1917.5,-1135 1923.5,-1135 1923.5,-1135 2200.5,-1135 2200.5,-1135 2206.5,-1135 2212.5,-1141 2212.5,-1147 2212.5,-1147 2212.5,-1191 2212.5,-1191 2212.5,-1197 2206.5,-1203 2200.5,-1203\"/>\r\n",
       "<text text-anchor=\"start\" x=\"2032.5\" y=\"-1187.8\" font-family=\"Helvetica,sans-Serif\" font-size=\"14.00\">gini = 0.0</text>\r\n",
       "<text text-anchor=\"start\" x=\"2014\" y=\"-1172.8\" font-family=\"Helvetica,sans-Serif\" font-size=\"14.00\">samples = 107</text>\r\n",
       "<text text-anchor=\"start\" x=\"1919.5\" y=\"-1157.8\" font-family=\"Helvetica,sans-Serif\" font-size=\"14.00\">value = [0, 0, 0, 107, 0, 0, 0, 0, 0, 0, 0, 0, 0, 0</text>\r\n",
       "<text text-anchor=\"start\" x=\"2048\" y=\"-1142.8\" font-family=\"Helvetica,sans-Serif\" font-size=\"14.00\">0, 0]</text>\r\n",
       "</g>\r\n",
       "<!-- 4&#45;&gt;26 -->\r\n",
       "<g id=\"edge26\" class=\"edge\"><title>4&#45;&gt;26</title>\r\n",
       "<path fill=\"none\" stroke=\"black\" d=\"M1952.66,-1243.77C1969.38,-1232.49 1987.69,-1220.14 2004.46,-1208.82\"/>\r\n",
       "<polygon fill=\"black\" stroke=\"black\" points=\"2006.74,-1211.51 2013.07,-1203.01 2002.82,-1205.7 2006.74,-1211.51\"/>\r\n",
       "</g>\r\n",
       "<!-- 6 -->\r\n",
       "<g id=\"node7\" class=\"node\"><title>6</title>\r\n",
       "<path fill=\"#39e56a\" fill-opacity=\"0.007843\" stroke=\"black\" d=\"M1717.5,-1094C1717.5,-1094 1406.5,-1094 1406.5,-1094 1400.5,-1094 1394.5,-1088 1394.5,-1082 1394.5,-1082 1394.5,-1028 1394.5,-1028 1394.5,-1022 1400.5,-1016 1406.5,-1016 1406.5,-1016 1717.5,-1016 1717.5,-1016 1723.5,-1016 1729.5,-1022 1729.5,-1028 1729.5,-1028 1729.5,-1082 1729.5,-1082 1729.5,-1088 1723.5,-1094 1717.5,-1094\"/>\r\n",
       "<text text-anchor=\"start\" x=\"1532\" y=\"-1079.8\" font-family=\"Helvetica,sans-Serif\" font-size=\"14.00\">X</text>\r\n",
       "<text text-anchor=\"start\" x=\"1542\" y=\"-1079.8\" font-family=\"Helvetica,sans-Serif\" baseline-shift=\"sub\" font-size=\"14.00\">17</text>\r\n",
       "<text text-anchor=\"start\" x=\"1556\" y=\"-1079.8\" font-family=\"Helvetica,sans-Serif\" font-size=\"14.00\"> ≤ 0.0</text>\r\n",
       "<text text-anchor=\"start\" x=\"1524\" y=\"-1065.8\" font-family=\"Helvetica,sans-Serif\" font-size=\"14.00\">gini = 0.872</text>\r\n",
       "<text text-anchor=\"start\" x=\"1514\" y=\"-1051.8\" font-family=\"Helvetica,sans-Serif\" font-size=\"14.00\">samples = 519</text>\r\n",
       "<text text-anchor=\"start\" x=\"1402.5\" y=\"-1037.8\" font-family=\"Helvetica,sans-Serif\" font-size=\"14.00\">value = [0, 13, 99, 0, 0, 102, 0, 58, 45, 0, 0, 48, 53</text>\r\n",
       "<text text-anchor=\"start\" x=\"1527.5\" y=\"-1023.8\" font-family=\"Helvetica,sans-Serif\" font-size=\"14.00\">46, 33, 22]</text>\r\n",
       "</g>\r\n",
       "<!-- 5&#45;&gt;6 -->\r\n",
       "<g id=\"edge6\" class=\"edge\"><title>5&#45;&gt;6</title>\r\n",
       "<path fill=\"none\" stroke=\"black\" d=\"M1672.65,-1129.77C1658.19,-1120.13 1642.55,-1109.7 1627.72,-1099.81\"/>\r\n",
       "<polygon fill=\"black\" stroke=\"black\" points=\"1629.35,-1096.69 1619.09,-1094.06 1625.47,-1102.52 1629.35,-1096.69\"/>\r\n",
       "</g>\r\n",
       "<!-- 25 -->\r\n",
       "<g id=\"node26\" class=\"node\"><title>25</title>\r\n",
       "<path fill=\"#395ee5\" stroke=\"black\" d=\"M2036.5,-1089C2036.5,-1089 1759.5,-1089 1759.5,-1089 1753.5,-1089 1747.5,-1083 1747.5,-1077 1747.5,-1077 1747.5,-1033 1747.5,-1033 1747.5,-1027 1753.5,-1021 1759.5,-1021 1759.5,-1021 2036.5,-1021 2036.5,-1021 2042.5,-1021 2048.5,-1027 2048.5,-1033 2048.5,-1033 2048.5,-1077 2048.5,-1077 2048.5,-1083 2042.5,-1089 2036.5,-1089\"/>\r\n",
       "<text text-anchor=\"start\" x=\"1868.5\" y=\"-1073.8\" font-family=\"Helvetica,sans-Serif\" font-size=\"14.00\">gini = 0.0</text>\r\n",
       "<text text-anchor=\"start\" x=\"1850\" y=\"-1058.8\" font-family=\"Helvetica,sans-Serif\" font-size=\"14.00\">samples = 103</text>\r\n",
       "<text text-anchor=\"start\" x=\"1755.5\" y=\"-1043.8\" font-family=\"Helvetica,sans-Serif\" font-size=\"14.00\">value = [0, 0, 0, 0, 0, 0, 0, 0, 0, 103, 0, 0, 0, 0</text>\r\n",
       "<text text-anchor=\"start\" x=\"1884\" y=\"-1028.8\" font-family=\"Helvetica,sans-Serif\" font-size=\"14.00\">0, 0]</text>\r\n",
       "</g>\r\n",
       "<!-- 5&#45;&gt;25 -->\r\n",
       "<g id=\"edge25\" class=\"edge\"><title>5&#45;&gt;25</title>\r\n",
       "<path fill=\"none\" stroke=\"black\" d=\"M1787.35,-1129.77C1804.26,-1118.49 1822.79,-1106.14 1839.76,-1094.82\"/>\r\n",
       "<polygon fill=\"black\" stroke=\"black\" points=\"1842.1,-1097.47 1848.48,-1089.01 1838.22,-1091.65 1842.1,-1097.47\"/>\r\n",
       "</g>\r\n",
       "<!-- 7 -->\r\n",
       "<g id=\"node8\" class=\"node\"><title>7</title>\r\n",
       "<path fill=\"#c8e539\" fill-opacity=\"0.113725\" stroke=\"black\" d=\"M1545,-980C1545,-980 1251,-980 1251,-980 1245,-980 1239,-974 1239,-968 1239,-968 1239,-914 1239,-914 1239,-908 1245,-902 1251,-902 1251,-902 1545,-902 1545,-902 1551,-902 1557,-908 1557,-914 1557,-914 1557,-968 1557,-968 1557,-974 1551,-980 1545,-980\"/>\r\n",
       "<text text-anchor=\"start\" x=\"1368\" y=\"-965.8\" font-family=\"Helvetica,sans-Serif\" font-size=\"14.00\">X</text>\r\n",
       "<text text-anchor=\"start\" x=\"1378\" y=\"-965.8\" font-family=\"Helvetica,sans-Serif\" baseline-shift=\"sub\" font-size=\"14.00\">25</text>\r\n",
       "<text text-anchor=\"start\" x=\"1392\" y=\"-965.8\" font-family=\"Helvetica,sans-Serif\" font-size=\"14.00\"> ≤ 0.0</text>\r\n",
       "<text text-anchor=\"start\" x=\"1360\" y=\"-951.8\" font-family=\"Helvetica,sans-Serif\" font-size=\"14.00\">gini = 0.861</text>\r\n",
       "<text text-anchor=\"start\" x=\"1350\" y=\"-937.8\" font-family=\"Helvetica,sans-Serif\" font-size=\"14.00\">samples = 417</text>\r\n",
       "<text text-anchor=\"start\" x=\"1247\" y=\"-923.8\" font-family=\"Helvetica,sans-Serif\" font-size=\"14.00\">value = [0, 13, 99, 0, 0, 0, 0, 58, 45, 0, 0, 48, 53</text>\r\n",
       "<text text-anchor=\"start\" x=\"1363.5\" y=\"-909.8\" font-family=\"Helvetica,sans-Serif\" font-size=\"14.00\">46, 33, 22]</text>\r\n",
       "</g>\r\n",
       "<!-- 6&#45;&gt;7 -->\r\n",
       "<g id=\"edge7\" class=\"edge\"><title>6&#45;&gt;7</title>\r\n",
       "<path fill=\"none\" stroke=\"black\" d=\"M1506.02,-1015.77C1491.9,-1006.13 1476.64,-995.703 1462.15,-985.811\"/>\r\n",
       "<polygon fill=\"black\" stroke=\"black\" points=\"1463.96,-982.808 1453.73,-980.058 1460.01,-988.588 1463.96,-982.808\"/>\r\n",
       "</g>\r\n",
       "<!-- 24 -->\r\n",
       "<g id=\"node25\" class=\"node\"><title>24</title>\r\n",
       "<path fill=\"#39e56a\" stroke=\"black\" d=\"M1864.5,-975C1864.5,-975 1587.5,-975 1587.5,-975 1581.5,-975 1575.5,-969 1575.5,-963 1575.5,-963 1575.5,-919 1575.5,-919 1575.5,-913 1581.5,-907 1587.5,-907 1587.5,-907 1864.5,-907 1864.5,-907 1870.5,-907 1876.5,-913 1876.5,-919 1876.5,-919 1876.5,-963 1876.5,-963 1876.5,-969 1870.5,-975 1864.5,-975\"/>\r\n",
       "<text text-anchor=\"start\" x=\"1696.5\" y=\"-959.8\" font-family=\"Helvetica,sans-Serif\" font-size=\"14.00\">gini = 0.0</text>\r\n",
       "<text text-anchor=\"start\" x=\"1678\" y=\"-944.8\" font-family=\"Helvetica,sans-Serif\" font-size=\"14.00\">samples = 102</text>\r\n",
       "<text text-anchor=\"start\" x=\"1583.5\" y=\"-929.8\" font-family=\"Helvetica,sans-Serif\" font-size=\"14.00\">value = [0, 0, 0, 0, 0, 102, 0, 0, 0, 0, 0, 0, 0, 0</text>\r\n",
       "<text text-anchor=\"start\" x=\"1712\" y=\"-914.8\" font-family=\"Helvetica,sans-Serif\" font-size=\"14.00\">0, 0]</text>\r\n",
       "</g>\r\n",
       "<!-- 6&#45;&gt;24 -->\r\n",
       "<g id=\"edge24\" class=\"edge\"><title>6&#45;&gt;24</title>\r\n",
       "<path fill=\"none\" stroke=\"black\" d=\"M1617.98,-1015.77C1634.5,-1004.49 1652.58,-992.14 1669.15,-980.824\"/>\r\n",
       "<polygon fill=\"black\" stroke=\"black\" points=\"1671.38,-983.543 1677.66,-975.013 1667.43,-977.762 1671.38,-983.543\"/>\r\n",
       "</g>\r\n",
       "<!-- 8 -->\r\n",
       "<g id=\"node9\" class=\"node\"><title>8</title>\r\n",
       "<path fill=\"#39dfe5\" fill-opacity=\"0.019608\" stroke=\"black\" d=\"M1381,-866C1381,-866 1095,-866 1095,-866 1089,-866 1083,-860 1083,-854 1083,-854 1083,-800 1083,-800 1083,-794 1089,-788 1095,-788 1095,-788 1381,-788 1381,-788 1387,-788 1393,-794 1393,-800 1393,-800 1393,-854 1393,-854 1393,-860 1387,-866 1381,-866\"/>\r\n",
       "<text text-anchor=\"start\" x=\"1208\" y=\"-851.8\" font-family=\"Helvetica,sans-Serif\" font-size=\"14.00\">X</text>\r\n",
       "<text text-anchor=\"start\" x=\"1218\" y=\"-851.8\" font-family=\"Helvetica,sans-Serif\" baseline-shift=\"sub\" font-size=\"14.00\">26</text>\r\n",
       "<text text-anchor=\"start\" x=\"1232\" y=\"-851.8\" font-family=\"Helvetica,sans-Serif\" font-size=\"14.00\"> ≤ 0.0</text>\r\n",
       "<text text-anchor=\"start\" x=\"1200\" y=\"-837.8\" font-family=\"Helvetica,sans-Serif\" font-size=\"14.00\">gini = 0.858</text>\r\n",
       "<text text-anchor=\"start\" x=\"1190\" y=\"-823.8\" font-family=\"Helvetica,sans-Serif\" font-size=\"14.00\">samples = 318</text>\r\n",
       "<text text-anchor=\"start\" x=\"1091\" y=\"-809.8\" font-family=\"Helvetica,sans-Serif\" font-size=\"14.00\">value = [0, 13, 0, 0, 0, 0, 0, 58, 45, 0, 0, 48, 53</text>\r\n",
       "<text text-anchor=\"start\" x=\"1203.5\" y=\"-795.8\" font-family=\"Helvetica,sans-Serif\" font-size=\"14.00\">46, 33, 22]</text>\r\n",
       "</g>\r\n",
       "<!-- 7&#45;&gt;8 -->\r\n",
       "<g id=\"edge8\" class=\"edge\"><title>7&#45;&gt;8</title>\r\n",
       "<path fill=\"none\" stroke=\"black\" d=\"M1343.38,-901.769C1329.61,-892.128 1314.72,-881.703 1300.59,-871.811\"/>\r\n",
       "<polygon fill=\"black\" stroke=\"black\" points=\"1302.57,-868.926 1292.37,-866.058 1298.55,-874.66 1302.57,-868.926\"/>\r\n",
       "</g>\r\n",
       "<!-- 23 -->\r\n",
       "<g id=\"node24\" class=\"node\"><title>23</title>\r\n",
       "<path fill=\"#c8e539\" stroke=\"black\" d=\"M1692.5,-861C1692.5,-861 1423.5,-861 1423.5,-861 1417.5,-861 1411.5,-855 1411.5,-849 1411.5,-849 1411.5,-805 1411.5,-805 1411.5,-799 1417.5,-793 1423.5,-793 1423.5,-793 1692.5,-793 1692.5,-793 1698.5,-793 1704.5,-799 1704.5,-805 1704.5,-805 1704.5,-849 1704.5,-849 1704.5,-855 1698.5,-861 1692.5,-861\"/>\r\n",
       "<text text-anchor=\"start\" x=\"1528.5\" y=\"-845.8\" font-family=\"Helvetica,sans-Serif\" font-size=\"14.00\">gini = 0.0</text>\r\n",
       "<text text-anchor=\"start\" x=\"1514\" y=\"-830.8\" font-family=\"Helvetica,sans-Serif\" font-size=\"14.00\">samples = 99</text>\r\n",
       "<text text-anchor=\"start\" x=\"1419.5\" y=\"-815.8\" font-family=\"Helvetica,sans-Serif\" font-size=\"14.00\">value = [0, 0, 99, 0, 0, 0, 0, 0, 0, 0, 0, 0, 0, 0</text>\r\n",
       "<text text-anchor=\"start\" x=\"1544\" y=\"-800.8\" font-family=\"Helvetica,sans-Serif\" font-size=\"14.00\">0, 0]</text>\r\n",
       "</g>\r\n",
       "<!-- 7&#45;&gt;23 -->\r\n",
       "<g id=\"edge23\" class=\"edge\"><title>7&#45;&gt;23</title>\r\n",
       "<path fill=\"none\" stroke=\"black\" d=\"M1452.62,-901.769C1468.73,-890.491 1486.37,-878.14 1502.54,-866.824\"/>\r\n",
       "<polygon fill=\"black\" stroke=\"black\" points=\"1504.65,-869.615 1510.84,-861.013 1500.64,-863.88 1504.65,-869.615\"/>\r\n",
       "</g>\r\n",
       "<!-- 9 -->\r\n",
       "<g id=\"node10\" class=\"node\"><title>9</title>\r\n",
       "<path fill=\"#d739e5\" fill-opacity=\"0.023529\" stroke=\"black\" d=\"M1219,-752C1219,-752 941,-752 941,-752 935,-752 929,-746 929,-740 929,-740 929,-686 929,-686 929,-680 935,-674 941,-674 941,-674 1219,-674 1219,-674 1225,-674 1231,-680 1231,-686 1231,-686 1231,-740 1231,-740 1231,-746 1225,-752 1219,-752\"/>\r\n",
       "<text text-anchor=\"start\" x=\"1053.5\" y=\"-737.8\" font-family=\"Helvetica,sans-Serif\" font-size=\"14.00\">X</text>\r\n",
       "<text text-anchor=\"start\" x=\"1063.5\" y=\"-737.8\" font-family=\"Helvetica,sans-Serif\" baseline-shift=\"sub\" font-size=\"14.00\">9</text>\r\n",
       "<text text-anchor=\"start\" x=\"1070.5\" y=\"-737.8\" font-family=\"Helvetica,sans-Serif\" font-size=\"14.00\"> ≤ 0.0</text>\r\n",
       "<text text-anchor=\"start\" x=\"1042\" y=\"-723.8\" font-family=\"Helvetica,sans-Serif\" font-size=\"14.00\">gini = 0.837</text>\r\n",
       "<text text-anchor=\"start\" x=\"1032\" y=\"-709.8\" font-family=\"Helvetica,sans-Serif\" font-size=\"14.00\">samples = 260</text>\r\n",
       "<text text-anchor=\"start\" x=\"937\" y=\"-695.8\" font-family=\"Helvetica,sans-Serif\" font-size=\"14.00\">value = [0, 13, 0, 0, 0, 0, 0, 0, 45, 0, 0, 48, 53</text>\r\n",
       "<text text-anchor=\"start\" x=\"1045.5\" y=\"-681.8\" font-family=\"Helvetica,sans-Serif\" font-size=\"14.00\">46, 33, 22]</text>\r\n",
       "</g>\r\n",
       "<!-- 8&#45;&gt;9 -->\r\n",
       "<g id=\"edge9\" class=\"edge\"><title>8&#45;&gt;9</title>\r\n",
       "<path fill=\"none\" stroke=\"black\" d=\"M1184.07,-787.769C1170.59,-778.218 1156.03,-767.898 1142.2,-758.089\"/>\r\n",
       "<polygon fill=\"black\" stroke=\"black\" points=\"1143.87,-754.986 1133.69,-752.058 1139.82,-760.697 1143.87,-754.986\"/>\r\n",
       "</g>\r\n",
       "<!-- 22 -->\r\n",
       "<g id=\"node23\" class=\"node\"><title>22</title>\r\n",
       "<path fill=\"#39dfe5\" stroke=\"black\" d=\"M1530.5,-747C1530.5,-747 1261.5,-747 1261.5,-747 1255.5,-747 1249.5,-741 1249.5,-735 1249.5,-735 1249.5,-691 1249.5,-691 1249.5,-685 1255.5,-679 1261.5,-679 1261.5,-679 1530.5,-679 1530.5,-679 1536.5,-679 1542.5,-685 1542.5,-691 1542.5,-691 1542.5,-735 1542.5,-735 1542.5,-741 1536.5,-747 1530.5,-747\"/>\r\n",
       "<text text-anchor=\"start\" x=\"1366.5\" y=\"-731.8\" font-family=\"Helvetica,sans-Serif\" font-size=\"14.00\">gini = 0.0</text>\r\n",
       "<text text-anchor=\"start\" x=\"1352\" y=\"-716.8\" font-family=\"Helvetica,sans-Serif\" font-size=\"14.00\">samples = 58</text>\r\n",
       "<text text-anchor=\"start\" x=\"1257.5\" y=\"-701.8\" font-family=\"Helvetica,sans-Serif\" font-size=\"14.00\">value = [0, 0, 0, 0, 0, 0, 0, 58, 0, 0, 0, 0, 0, 0</text>\r\n",
       "<text text-anchor=\"start\" x=\"1382\" y=\"-686.8\" font-family=\"Helvetica,sans-Serif\" font-size=\"14.00\">0, 0]</text>\r\n",
       "</g>\r\n",
       "<!-- 8&#45;&gt;22 -->\r\n",
       "<g id=\"edge22\" class=\"edge\"><title>8&#45;&gt;22</title>\r\n",
       "<path fill=\"none\" stroke=\"black\" d=\"M1291.93,-787.769C1307.84,-776.491 1325.27,-764.14 1341.23,-752.824\"/>\r\n",
       "<polygon fill=\"black\" stroke=\"black\" points=\"1343.29,-755.651 1349.43,-747.013 1339.25,-749.94 1343.29,-755.651\"/>\r\n",
       "</g>\r\n",
       "<!-- 10 -->\r\n",
       "<g id=\"node11\" class=\"node\"><title>10</title>\r\n",
       "<path fill=\"#9539e5\" fill-opacity=\"0.011765\" stroke=\"black\" d=\"M1065.5,-638C1065.5,-638 772.5,-638 772.5,-638 766.5,-638 760.5,-632 760.5,-626 760.5,-626 760.5,-572 760.5,-572 760.5,-566 766.5,-560 772.5,-560 772.5,-560 1065.5,-560 1065.5,-560 1071.5,-560 1077.5,-566 1077.5,-572 1077.5,-572 1077.5,-626 1077.5,-626 1077.5,-632 1071.5,-638 1065.5,-638\"/>\r\n",
       "<text text-anchor=\"start\" x=\"892.5\" y=\"-623.8\" font-family=\"Helvetica,sans-Serif\" font-size=\"14.00\">X</text>\r\n",
       "<text text-anchor=\"start\" x=\"902.5\" y=\"-623.8\" font-family=\"Helvetica,sans-Serif\" baseline-shift=\"sub\" font-size=\"14.00\">8</text>\r\n",
       "<text text-anchor=\"start\" x=\"909.5\" y=\"-623.8\" font-family=\"Helvetica,sans-Serif\" font-size=\"14.00\"> ≤ 0.0</text>\r\n",
       "<text text-anchor=\"start\" x=\"881\" y=\"-609.8\" font-family=\"Helvetica,sans-Serif\" font-size=\"14.00\">gini = 0.809</text>\r\n",
       "<text text-anchor=\"start\" x=\"871\" y=\"-595.8\" font-family=\"Helvetica,sans-Serif\" font-size=\"14.00\">samples = 207</text>\r\n",
       "<text text-anchor=\"start\" x=\"768.5\" y=\"-581.8\" font-family=\"Helvetica,sans-Serif\" font-size=\"14.00\">value = [0, 13, 0, 0, 0, 0, 0, 0, 45, 0, 0, 48, 0, 46</text>\r\n",
       "<text text-anchor=\"start\" x=\"896.5\" y=\"-567.8\" font-family=\"Helvetica,sans-Serif\" font-size=\"14.00\">33, 22]</text>\r\n",
       "</g>\r\n",
       "<!-- 9&#45;&gt;10 -->\r\n",
       "<g id=\"edge10\" class=\"edge\"><title>9&#45;&gt;10</title>\r\n",
       "<path fill=\"none\" stroke=\"black\" d=\"M1025.04,-673.769C1011.18,-664.128 996.198,-653.703 981.978,-643.811\"/>\r\n",
       "<polygon fill=\"black\" stroke=\"black\" points=\"983.917,-640.896 973.709,-638.058 979.919,-646.642 983.917,-640.896\"/>\r\n",
       "</g>\r\n",
       "<!-- 21 -->\r\n",
       "<g id=\"node22\" class=\"node\"><title>21</title>\r\n",
       "<path fill=\"#d739e5\" stroke=\"black\" d=\"M1376.5,-633C1376.5,-633 1107.5,-633 1107.5,-633 1101.5,-633 1095.5,-627 1095.5,-621 1095.5,-621 1095.5,-577 1095.5,-577 1095.5,-571 1101.5,-565 1107.5,-565 1107.5,-565 1376.5,-565 1376.5,-565 1382.5,-565 1388.5,-571 1388.5,-577 1388.5,-577 1388.5,-621 1388.5,-621 1388.5,-627 1382.5,-633 1376.5,-633\"/>\r\n",
       "<text text-anchor=\"start\" x=\"1212.5\" y=\"-617.8\" font-family=\"Helvetica,sans-Serif\" font-size=\"14.00\">gini = 0.0</text>\r\n",
       "<text text-anchor=\"start\" x=\"1198\" y=\"-602.8\" font-family=\"Helvetica,sans-Serif\" font-size=\"14.00\">samples = 53</text>\r\n",
       "<text text-anchor=\"start\" x=\"1103.5\" y=\"-587.8\" font-family=\"Helvetica,sans-Serif\" font-size=\"14.00\">value = [0, 0, 0, 0, 0, 0, 0, 0, 0, 0, 0, 0, 53, 0</text>\r\n",
       "<text text-anchor=\"start\" x=\"1228\" y=\"-572.8\" font-family=\"Helvetica,sans-Serif\" font-size=\"14.00\">0, 0]</text>\r\n",
       "</g>\r\n",
       "<!-- 9&#45;&gt;21 -->\r\n",
       "<g id=\"edge21\" class=\"edge\"><title>9&#45;&gt;21</title>\r\n",
       "<path fill=\"none\" stroke=\"black\" d=\"M1135.3,-673.769C1151.61,-662.491 1169.48,-650.14 1185.84,-638.824\"/>\r\n",
       "<polygon fill=\"black\" stroke=\"black\" points=\"1188.01,-641.578 1194.25,-633.013 1184.03,-635.821 1188.01,-641.578\"/>\r\n",
       "</g>\r\n",
       "<!-- 11 -->\r\n",
       "<g id=\"node12\" class=\"node\"><title>11</title>\r\n",
       "<path fill=\"#e539b4\" fill-opacity=\"0.007843\" stroke=\"black\" d=\"M902.5,-524C902.5,-524 617.5,-524 617.5,-524 611.5,-524 605.5,-518 605.5,-512 605.5,-512 605.5,-458 605.5,-458 605.5,-452 611.5,-446 617.5,-446 617.5,-446 902.5,-446 902.5,-446 908.5,-446 914.5,-452 914.5,-458 914.5,-458 914.5,-512 914.5,-512 914.5,-518 908.5,-524 902.5,-524\"/>\r\n",
       "<text text-anchor=\"start\" x=\"730\" y=\"-509.8\" font-family=\"Helvetica,sans-Serif\" font-size=\"14.00\">X</text>\r\n",
       "<text text-anchor=\"start\" x=\"740\" y=\"-509.8\" font-family=\"Helvetica,sans-Serif\" baseline-shift=\"sub\" font-size=\"14.00\">21</text>\r\n",
       "<text text-anchor=\"start\" x=\"754\" y=\"-509.8\" font-family=\"Helvetica,sans-Serif\" font-size=\"14.00\"> ≤ 0.0</text>\r\n",
       "<text text-anchor=\"start\" x=\"722\" y=\"-495.8\" font-family=\"Helvetica,sans-Serif\" font-size=\"14.00\">gini = 0.767</text>\r\n",
       "<text text-anchor=\"start\" x=\"712\" y=\"-481.8\" font-family=\"Helvetica,sans-Serif\" font-size=\"14.00\">samples = 159</text>\r\n",
       "<text text-anchor=\"start\" x=\"613.5\" y=\"-467.8\" font-family=\"Helvetica,sans-Serif\" font-size=\"14.00\">value = [0, 13, 0, 0, 0, 0, 0, 0, 45, 0, 0, 0, 0, 46</text>\r\n",
       "<text text-anchor=\"start\" x=\"737.5\" y=\"-453.8\" font-family=\"Helvetica,sans-Serif\" font-size=\"14.00\">33, 22]</text>\r\n",
       "</g>\r\n",
       "<!-- 10&#45;&gt;11 -->\r\n",
       "<g id=\"edge11\" class=\"edge\"><title>10&#45;&gt;11</title>\r\n",
       "<path fill=\"none\" stroke=\"black\" d=\"M864.726,-559.769C851.167,-550.218 836.516,-539.898 822.59,-530.089\"/>\r\n",
       "<polygon fill=\"black\" stroke=\"black\" points=\"824.22,-526.956 814.029,-524.058 820.189,-532.679 824.22,-526.956\"/>\r\n",
       "</g>\r\n",
       "<!-- 20 -->\r\n",
       "<g id=\"node21\" class=\"node\"><title>20</title>\r\n",
       "<path fill=\"#9539e5\" stroke=\"black\" d=\"M1213.5,-519C1213.5,-519 944.5,-519 944.5,-519 938.5,-519 932.5,-513 932.5,-507 932.5,-507 932.5,-463 932.5,-463 932.5,-457 938.5,-451 944.5,-451 944.5,-451 1213.5,-451 1213.5,-451 1219.5,-451 1225.5,-457 1225.5,-463 1225.5,-463 1225.5,-507 1225.5,-507 1225.5,-513 1219.5,-519 1213.5,-519\"/>\r\n",
       "<text text-anchor=\"start\" x=\"1049.5\" y=\"-503.8\" font-family=\"Helvetica,sans-Serif\" font-size=\"14.00\">gini = 0.0</text>\r\n",
       "<text text-anchor=\"start\" x=\"1035\" y=\"-488.8\" font-family=\"Helvetica,sans-Serif\" font-size=\"14.00\">samples = 48</text>\r\n",
       "<text text-anchor=\"start\" x=\"940.5\" y=\"-473.8\" font-family=\"Helvetica,sans-Serif\" font-size=\"14.00\">value = [0, 0, 0, 0, 0, 0, 0, 0, 0, 0, 0, 48, 0, 0</text>\r\n",
       "<text text-anchor=\"start\" x=\"1065\" y=\"-458.8\" font-family=\"Helvetica,sans-Serif\" font-size=\"14.00\">0, 0]</text>\r\n",
       "</g>\r\n",
       "<!-- 10&#45;&gt;20 -->\r\n",
       "<g id=\"edge20\" class=\"edge\"><title>10&#45;&gt;20</title>\r\n",
       "<path fill=\"none\" stroke=\"black\" d=\"M973.615,-559.769C989.727,-548.491 1007.37,-536.14 1023.54,-524.824\"/>\r\n",
       "<polygon fill=\"black\" stroke=\"black\" points=\"1025.65,-527.615 1031.84,-519.013 1021.64,-521.88 1025.65,-527.615\"/>\r\n",
       "</g>\r\n",
       "<!-- 12 -->\r\n",
       "<g id=\"node13\" class=\"node\"><title>12</title>\r\n",
       "<path fill=\"#399de5\" fill-opacity=\"0.149020\" stroke=\"black\" d=\"M741.5,-410C741.5,-410 464.5,-410 464.5,-410 458.5,-410 452.5,-404 452.5,-398 452.5,-398 452.5,-344 452.5,-344 452.5,-338 458.5,-332 464.5,-332 464.5,-332 741.5,-332 741.5,-332 747.5,-332 753.5,-338 753.5,-344 753.5,-344 753.5,-398 753.5,-398 753.5,-404 747.5,-410 741.5,-410\"/>\r\n",
       "<text text-anchor=\"start\" x=\"573\" y=\"-395.8\" font-family=\"Helvetica,sans-Serif\" font-size=\"14.00\">X</text>\r\n",
       "<text text-anchor=\"start\" x=\"583\" y=\"-395.8\" font-family=\"Helvetica,sans-Serif\" baseline-shift=\"sub\" font-size=\"14.00\">28</text>\r\n",
       "<text text-anchor=\"start\" x=\"597\" y=\"-395.8\" font-family=\"Helvetica,sans-Serif\" font-size=\"14.00\"> ≤ 0.0</text>\r\n",
       "<text text-anchor=\"start\" x=\"565\" y=\"-381.8\" font-family=\"Helvetica,sans-Serif\" font-size=\"14.00\">gini = 0.705</text>\r\n",
       "<text text-anchor=\"start\" x=\"555\" y=\"-367.8\" font-family=\"Helvetica,sans-Serif\" font-size=\"14.00\">samples = 113</text>\r\n",
       "<text text-anchor=\"start\" x=\"460.5\" y=\"-353.8\" font-family=\"Helvetica,sans-Serif\" font-size=\"14.00\">value = [0, 13, 0, 0, 0, 0, 0, 0, 45, 0, 0, 0, 0, 0</text>\r\n",
       "<text text-anchor=\"start\" x=\"580.5\" y=\"-339.8\" font-family=\"Helvetica,sans-Serif\" font-size=\"14.00\">33, 22]</text>\r\n",
       "</g>\r\n",
       "<!-- 11&#45;&gt;12 -->\r\n",
       "<g id=\"edge12\" class=\"edge\"><title>11&#45;&gt;12</title>\r\n",
       "<path fill=\"none\" stroke=\"black\" d=\"M706.409,-445.769C693.02,-436.218 678.553,-425.898 664.803,-416.089\"/>\r\n",
       "<polygon fill=\"black\" stroke=\"black\" points=\"666.523,-413.017 656.35,-410.058 662.458,-418.715 666.523,-413.017\"/>\r\n",
       "</g>\r\n",
       "<!-- 19 -->\r\n",
       "<g id=\"node20\" class=\"node\"><title>19</title>\r\n",
       "<path fill=\"#e539b4\" stroke=\"black\" d=\"M1052.5,-405C1052.5,-405 783.5,-405 783.5,-405 777.5,-405 771.5,-399 771.5,-393 771.5,-393 771.5,-349 771.5,-349 771.5,-343 777.5,-337 783.5,-337 783.5,-337 1052.5,-337 1052.5,-337 1058.5,-337 1064.5,-343 1064.5,-349 1064.5,-349 1064.5,-393 1064.5,-393 1064.5,-399 1058.5,-405 1052.5,-405\"/>\r\n",
       "<text text-anchor=\"start\" x=\"888.5\" y=\"-389.8\" font-family=\"Helvetica,sans-Serif\" font-size=\"14.00\">gini = 0.0</text>\r\n",
       "<text text-anchor=\"start\" x=\"874\" y=\"-374.8\" font-family=\"Helvetica,sans-Serif\" font-size=\"14.00\">samples = 46</text>\r\n",
       "<text text-anchor=\"start\" x=\"779.5\" y=\"-359.8\" font-family=\"Helvetica,sans-Serif\" font-size=\"14.00\">value = [0, 0, 0, 0, 0, 0, 0, 0, 0, 0, 0, 0, 0, 46</text>\r\n",
       "<text text-anchor=\"start\" x=\"904\" y=\"-344.8\" font-family=\"Helvetica,sans-Serif\" font-size=\"14.00\">0, 0]</text>\r\n",
       "</g>\r\n",
       "<!-- 11&#45;&gt;19 -->\r\n",
       "<g id=\"edge19\" class=\"edge\"><title>11&#45;&gt;19</title>\r\n",
       "<path fill=\"none\" stroke=\"black\" d=\"M813.933,-445.769C829.843,-434.491 847.267,-422.14 863.23,-410.824\"/>\r\n",
       "<polygon fill=\"black\" stroke=\"black\" points=\"865.294,-413.651 871.429,-405.013 861.246,-407.94 865.294,-413.651\"/>\r\n",
       "</g>\r\n",
       "<!-- 13 -->\r\n",
       "<g id=\"node14\" class=\"node\"><title>13</title>\r\n",
       "<path fill=\"#e53972\" fill-opacity=\"0.239216\" stroke=\"black\" d=\"M582.5,-296C582.5,-296 313.5,-296 313.5,-296 307.5,-296 301.5,-290 301.5,-284 301.5,-284 301.5,-230 301.5,-230 301.5,-224 307.5,-218 313.5,-218 313.5,-218 582.5,-218 582.5,-218 588.5,-218 594.5,-224 594.5,-230 594.5,-230 594.5,-284 594.5,-284 594.5,-290 588.5,-296 582.5,-296\"/>\r\n",
       "<text text-anchor=\"start\" x=\"418\" y=\"-281.8\" font-family=\"Helvetica,sans-Serif\" font-size=\"14.00\">X</text>\r\n",
       "<text text-anchor=\"start\" x=\"428\" y=\"-281.8\" font-family=\"Helvetica,sans-Serif\" baseline-shift=\"sub\" font-size=\"14.00\">29</text>\r\n",
       "<text text-anchor=\"start\" x=\"442\" y=\"-281.8\" font-family=\"Helvetica,sans-Serif\" font-size=\"14.00\"> ≤ 0.0</text>\r\n",
       "<text text-anchor=\"start\" x=\"410\" y=\"-267.8\" font-family=\"Helvetica,sans-Serif\" font-size=\"14.00\">gini = 0.623</text>\r\n",
       "<text text-anchor=\"start\" x=\"404\" y=\"-253.8\" font-family=\"Helvetica,sans-Serif\" font-size=\"14.00\">samples = 68</text>\r\n",
       "<text text-anchor=\"start\" x=\"309.5\" y=\"-239.8\" font-family=\"Helvetica,sans-Serif\" font-size=\"14.00\">value = [0, 13, 0, 0, 0, 0, 0, 0, 0, 0, 0, 0, 0, 0</text>\r\n",
       "<text text-anchor=\"start\" x=\"425.5\" y=\"-225.8\" font-family=\"Helvetica,sans-Serif\" font-size=\"14.00\">33, 22]</text>\r\n",
       "</g>\r\n",
       "<!-- 12&#45;&gt;13 -->\r\n",
       "<g id=\"edge13\" class=\"edge\"><title>12&#45;&gt;13</title>\r\n",
       "<path fill=\"none\" stroke=\"black\" d=\"M550.091,-331.769C536.873,-322.218 522.591,-311.898 509.015,-302.089\"/>\r\n",
       "<polygon fill=\"black\" stroke=\"black\" points=\"510.826,-299.078 500.67,-296.058 506.726,-304.752 510.826,-299.078\"/>\r\n",
       "</g>\r\n",
       "<!-- 18 -->\r\n",
       "<g id=\"node19\" class=\"node\"><title>18</title>\r\n",
       "<path fill=\"#399de5\" stroke=\"black\" d=\"M893.5,-291C893.5,-291 624.5,-291 624.5,-291 618.5,-291 612.5,-285 612.5,-279 612.5,-279 612.5,-235 612.5,-235 612.5,-229 618.5,-223 624.5,-223 624.5,-223 893.5,-223 893.5,-223 899.5,-223 905.5,-229 905.5,-235 905.5,-235 905.5,-279 905.5,-279 905.5,-285 899.5,-291 893.5,-291\"/>\r\n",
       "<text text-anchor=\"start\" x=\"729.5\" y=\"-275.8\" font-family=\"Helvetica,sans-Serif\" font-size=\"14.00\">gini = 0.0</text>\r\n",
       "<text text-anchor=\"start\" x=\"715\" y=\"-260.8\" font-family=\"Helvetica,sans-Serif\" font-size=\"14.00\">samples = 45</text>\r\n",
       "<text text-anchor=\"start\" x=\"620.5\" y=\"-245.8\" font-family=\"Helvetica,sans-Serif\" font-size=\"14.00\">value = [0, 0, 0, 0, 0, 0, 0, 0, 45, 0, 0, 0, 0, 0</text>\r\n",
       "<text text-anchor=\"start\" x=\"745\" y=\"-230.8\" font-family=\"Helvetica,sans-Serif\" font-size=\"14.00\">0, 0]</text>\r\n",
       "</g>\r\n",
       "<!-- 12&#45;&gt;18 -->\r\n",
       "<g id=\"edge18\" class=\"edge\"><title>12&#45;&gt;18</title>\r\n",
       "<path fill=\"none\" stroke=\"black\" d=\"M656.25,-331.769C671.815,-320.594 688.847,-308.366 704.489,-297.136\"/>\r\n",
       "<polygon fill=\"black\" stroke=\"black\" points=\"706.936,-299.688 713.018,-291.013 702.854,-294.002 706.936,-299.688\"/>\r\n",
       "</g>\r\n",
       "<!-- 14 -->\r\n",
       "<g id=\"node15\" class=\"node\"><title>14</title>\r\n",
       "<path fill=\"#e53f39\" fill-opacity=\"0.407843\" stroke=\"black\" d=\"M429.5,-182C429.5,-182 160.5,-182 160.5,-182 154.5,-182 148.5,-176 148.5,-170 148.5,-170 148.5,-116 148.5,-116 148.5,-110 154.5,-104 160.5,-104 160.5,-104 429.5,-104 429.5,-104 435.5,-104 441.5,-110 441.5,-116 441.5,-116 441.5,-170 441.5,-170 441.5,-176 435.5,-182 429.5,-182\"/>\r\n",
       "<text text-anchor=\"start\" x=\"265\" y=\"-167.8\" font-family=\"Helvetica,sans-Serif\" font-size=\"14.00\">X</text>\r\n",
       "<text text-anchor=\"start\" x=\"275\" y=\"-167.8\" font-family=\"Helvetica,sans-Serif\" baseline-shift=\"sub\" font-size=\"14.00\">10</text>\r\n",
       "<text text-anchor=\"start\" x=\"289\" y=\"-167.8\" font-family=\"Helvetica,sans-Serif\" font-size=\"14.00\"> ≤ 0.0</text>\r\n",
       "<text text-anchor=\"start\" x=\"257\" y=\"-153.8\" font-family=\"Helvetica,sans-Serif\" font-size=\"14.00\">gini = 0.467</text>\r\n",
       "<text text-anchor=\"start\" x=\"251\" y=\"-139.8\" font-family=\"Helvetica,sans-Serif\" font-size=\"14.00\">samples = 35</text>\r\n",
       "<text text-anchor=\"start\" x=\"156.5\" y=\"-125.8\" font-family=\"Helvetica,sans-Serif\" font-size=\"14.00\">value = [0, 13, 0, 0, 0, 0, 0, 0, 0, 0, 0, 0, 0, 0</text>\r\n",
       "<text text-anchor=\"start\" x=\"276.5\" y=\"-111.8\" font-family=\"Helvetica,sans-Serif\" font-size=\"14.00\">0, 22]</text>\r\n",
       "</g>\r\n",
       "<!-- 13&#45;&gt;14 -->\r\n",
       "<g id=\"edge14\" class=\"edge\"><title>13&#45;&gt;14</title>\r\n",
       "<path fill=\"none\" stroke=\"black\" d=\"M395.774,-217.769C382.727,-208.218 368.628,-197.898 355.228,-188.089\"/>\r\n",
       "<polygon fill=\"black\" stroke=\"black\" points=\"357.127,-185.141 346.991,-182.058 352.992,-190.789 357.127,-185.141\"/>\r\n",
       "</g>\r\n",
       "<!-- 17 -->\r\n",
       "<g id=\"node18\" class=\"node\"><title>17</title>\r\n",
       "<path fill=\"#e53972\" stroke=\"black\" d=\"M732,-177C732,-177 472,-177 472,-177 466,-177 460,-171 460,-165 460,-165 460,-121 460,-121 460,-115 466,-109 472,-109 472,-109 732,-109 732,-109 738,-109 744,-115 744,-121 744,-121 744,-165 744,-165 744,-171 738,-177 732,-177\"/>\r\n",
       "<text text-anchor=\"start\" x=\"572.5\" y=\"-161.8\" font-family=\"Helvetica,sans-Serif\" font-size=\"14.00\">gini = 0.0</text>\r\n",
       "<text text-anchor=\"start\" x=\"558\" y=\"-146.8\" font-family=\"Helvetica,sans-Serif\" font-size=\"14.00\">samples = 33</text>\r\n",
       "<text text-anchor=\"start\" x=\"468\" y=\"-131.8\" font-family=\"Helvetica,sans-Serif\" font-size=\"14.00\">value = [0, 0, 0, 0, 0, 0, 0, 0, 0, 0, 0, 0, 0, 0</text>\r\n",
       "<text text-anchor=\"start\" x=\"583.5\" y=\"-116.8\" font-family=\"Helvetica,sans-Serif\" font-size=\"14.00\">33, 0]</text>\r\n",
       "</g>\r\n",
       "<!-- 13&#45;&gt;17 -->\r\n",
       "<g id=\"edge17\" class=\"edge\"><title>13&#45;&gt;17</title>\r\n",
       "<path fill=\"none\" stroke=\"black\" d=\"M500.567,-217.769C515.933,-206.594 532.747,-194.366 548.188,-183.136\"/>\r\n",
       "<polygon fill=\"black\" stroke=\"black\" points=\"550.579,-185.725 556.608,-177.013 546.462,-180.064 550.579,-185.725\"/>\r\n",
       "</g>\r\n",
       "<!-- 15 -->\r\n",
       "<g id=\"node16\" class=\"node\"><title>15</title>\r\n",
       "<path fill=\"#e53f39\" stroke=\"black\" d=\"M272,-68C272,-68 12,-68 12,-68 6,-68 0,-62 0,-56 0,-56 0,-12 0,-12 0,-6 6,-0 12,-0 12,-0 272,-0 272,-0 278,-0 284,-6 284,-12 284,-12 284,-56 284,-56 284,-62 278,-68 272,-68\"/>\r\n",
       "<text text-anchor=\"start\" x=\"112.5\" y=\"-52.8\" font-family=\"Helvetica,sans-Serif\" font-size=\"14.00\">gini = 0.0</text>\r\n",
       "<text text-anchor=\"start\" x=\"98\" y=\"-37.8\" font-family=\"Helvetica,sans-Serif\" font-size=\"14.00\">samples = 22</text>\r\n",
       "<text text-anchor=\"start\" x=\"8\" y=\"-22.8\" font-family=\"Helvetica,sans-Serif\" font-size=\"14.00\">value = [0, 0, 0, 0, 0, 0, 0, 0, 0, 0, 0, 0, 0, 0</text>\r\n",
       "<text text-anchor=\"start\" x=\"123.5\" y=\"-7.8\" font-family=\"Helvetica,sans-Serif\" font-size=\"14.00\">0, 22]</text>\r\n",
       "</g>\r\n",
       "<!-- 14&#45;&gt;15 -->\r\n",
       "<g id=\"edge15\" class=\"edge\"><title>14&#45;&gt;15</title>\r\n",
       "<path fill=\"none\" stroke=\"black\" d=\"M240.627,-103.975C226.828,-94.3242 211.978,-83.9389 198.095,-74.2301\"/>\r\n",
       "<polygon fill=\"black\" stroke=\"black\" points=\"199.795,-71.1478 189.594,-68.2849 195.783,-76.8842 199.795,-71.1478\"/>\r\n",
       "</g>\r\n",
       "<!-- 16 -->\r\n",
       "<g id=\"node17\" class=\"node\"><title>16</title>\r\n",
       "<path fill=\"#e5c039\" stroke=\"black\" d=\"M583.5,-68C583.5,-68 314.5,-68 314.5,-68 308.5,-68 302.5,-62 302.5,-56 302.5,-56 302.5,-12 302.5,-12 302.5,-6 308.5,-0 314.5,-0 314.5,-0 583.5,-0 583.5,-0 589.5,-0 595.5,-6 595.5,-12 595.5,-12 595.5,-56 595.5,-56 595.5,-62 589.5,-68 583.5,-68\"/>\r\n",
       "<text text-anchor=\"start\" x=\"419.5\" y=\"-52.8\" font-family=\"Helvetica,sans-Serif\" font-size=\"14.00\">gini = 0.0</text>\r\n",
       "<text text-anchor=\"start\" x=\"405\" y=\"-37.8\" font-family=\"Helvetica,sans-Serif\" font-size=\"14.00\">samples = 13</text>\r\n",
       "<text text-anchor=\"start\" x=\"310.5\" y=\"-22.8\" font-family=\"Helvetica,sans-Serif\" font-size=\"14.00\">value = [0, 13, 0, 0, 0, 0, 0, 0, 0, 0, 0, 0, 0, 0</text>\r\n",
       "<text text-anchor=\"start\" x=\"435\" y=\"-7.8\" font-family=\"Helvetica,sans-Serif\" font-size=\"14.00\">0, 0]</text>\r\n",
       "</g>\r\n",
       "<!-- 14&#45;&gt;16 -->\r\n",
       "<g id=\"edge16\" class=\"edge\"><title>14&#45;&gt;16</title>\r\n",
       "<path fill=\"none\" stroke=\"black\" d=\"M349.728,-103.975C363.689,-94.2745 378.719,-83.8318 392.754,-74.08\"/>\r\n",
       "<polygon fill=\"black\" stroke=\"black\" points=\"395.131,-76.6904 401.346,-68.1101 391.137,-70.9418 395.131,-76.6904\"/>\r\n",
       "</g>\r\n",
       "</g>\r\n",
       "</svg>\r\n"
      ],
      "text/plain": [
       "<graphviz.files.Source at 0x1e7c359f6d8>"
      ]
     },
     "execution_count": 52,
     "metadata": {},
     "output_type": "execute_result"
    }
   ],
   "source": [
    "import graphviz\n",
    "\n",
    "dotData = tree.export_graphviz(clfTree, out_file=None, filled=True, rounded=True, special_characters=True)\n",
    "graph = graphviz.Source(dotData)\n",
    "graph"
   ]
  },
  {
   "cell_type": "code",
   "execution_count": null,
   "metadata": {},
   "outputs": [],
   "source": []
  }
 ],
 "metadata": {
  "kernelspec": {
   "display_name": "Python [conda env:DLenv]",
   "language": "python",
   "name": "conda-env-DLenv-py"
  },
  "language_info": {
   "codemirror_mode": {
    "name": "ipython",
    "version": 3
   },
   "file_extension": ".py",
   "mimetype": "text/x-python",
   "name": "python",
   "nbconvert_exporter": "python",
   "pygments_lexer": "ipython3",
   "version": "3.7.3"
  }
 },
 "nbformat": 4,
 "nbformat_minor": 2
}
