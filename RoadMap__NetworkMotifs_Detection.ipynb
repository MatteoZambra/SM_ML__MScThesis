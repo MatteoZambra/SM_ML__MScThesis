{
 "cells": [
  {
   "cell_type": "markdown",
   "metadata": {},
   "source": [
    "# Detecting modular structure in trained neural system\n",
    "\n",
    "Once trained, the neural network has the optimal (for the task it was trained for) weight and biases values.\n",
    "\n",
    "It is here to be investigated if such a system exhibits particular _network motifs_. To this end, it is thought neat to proceed as follows. From the beginning of the procedure\n",
    "\n",
    "#### Step 0\n",
    "Initialize the system parameters to normally distributed random variables $w_{ij}^{(k)} \\sim \\mathcal{N}(0.0, 0.00001)$. These values try to mimick the **getting to form** connections between computing units (neurons). Note: It is up to the **gradients** to update, even of big amounts, these initially small values. It is expected that the network accomplishes the classificatin task with a satisfactory accuracy value on test examples, say $\\ge 0.95$."
   ]
  },
  {
   "cell_type": "markdown",
   "metadata": {},
   "source": [
    "#### Step 1 (evolved system)\n",
    "Train the neural network. This shall be, being consistent with the nomenclature in [Kashtan and Alon, 2005](\"https://www.pnas.org/content/102/39/13773\", \"PNAS\"), the **evolved system**. Extrapolate the neural network parameters and architecture, in such a way to determine a **weighted directed graph** out of it.\n",
    "\n",
    "By the graph $\\mathcal{G} = \\{ \\mathcal{N}, \\mathcal{E} \\}$, determine the modularity measure $Q_{\\text{real}}$. \n",
    "\n",
    "By the knowledge of the parameters, one should be in the position to plot their distributions, as depicted:\n",
    "\n",
    "![Parameters of the first layer](L1.png)\n",
    "![Parameters of the second layer](L2.png)"
   ]
  },
  {
   "cell_type": "markdown",
   "metadata": {},
   "source": [
    "#### Step 2 (Randomized system)\n",
    "\n",
    "Then could be useful to extrapolate a distribution $\\mathfrak{D}\\,(\\bullet \\leftarrow \\{ \\mathbf{W}, \\mathbf{b} \\})$, from which one can **sample** the parameters to initialize the **randomized system**.\n",
    "\n",
    "The key difference between this and the evolved counterpart is that here the parameters are not resulting from the evolution the system has undergone to in order to accomplish the learning task, so **even if the parameters have the same probabilistic signature** (being sampled by the distribution inferred from the evoluted system), **it is not expected that the connection patterns are retained**. \n",
    "\n",
    "Subsequently, one can again compute the $Q_{\\text{rand}}$ value.\n",
    "\n",
    "<font color='red'>**QUESTION 1.**</font>: In [Kashtan and Alon, 2005](\"https://www.pnas.org/content/102/39/13773\", \"PNAS\"), the value of $Q$ is defined as _the fraction of the edges in the network that connect between nodes in a module minus the expected value of the same quantity in a network with the same assignment of nodes into modules but random connections between the nodes_. So it is expected that the randomized network shows the same modular structures as the evolved system?\n",
    "\n",
    "<font color='red'>**QUESTION 2.**</font>: Could it be wise to assume a joint distribution for weights and biases for the same layer, $\\mathfrak{D}\\,(\\bullet \\leftarrow \\{ \\mathbf{W}, \\mathbf{b} \\}) = \\mathfrak{D}\\,(\\mathbf{W},\\mathbf{b})$"
   ]
  },
  {
   "cell_type": "markdown",
   "metadata": {},
   "source": [
    "So far, what is computed is the _normalized_ modularity measure\n",
    "\n",
    "$$ Q_m = \\frac{Q_{\\text{real}} - Q_{\\text{rand}}}{Q_{\\text{max}} - Q_{\\text{rand}}} $$\n",
    "\n",
    "which accounts for the quantity\n",
    "\n",
    "$$Q = \\sum_{s = 1}^{K} \\left[  \\frac{l_s}{L} - \\left( \\frac{d_s}{2L} \\right)^2  \\right]$$\n",
    "\n",
    "in the **real** (evolved) system, **rand**omized system, and the **max** tag refers to the maximum value recorded for many random samplings.\n",
    "\n",
    "What is further needed, is the qualitative account of the **network motifs** getting to emerge in the evolved system internal topology.\n",
    "\n",
    "<font color='red'>**QUESTION 3.**</font>: Such a neural system has way lower structural flexibility (FFDNN) therefore the motifs one may observe are limited and occurring in the same manner in the evolved and randomized system?"
   ]
  }
 ],
 "metadata": {
  "kernelspec": {
   "display_name": "Python [conda env:DLenv]",
   "language": "python",
   "name": "conda-env-DLenv-py"
  },
  "language_info": {
   "codemirror_mode": {
    "name": "ipython",
    "version": 3
   },
   "file_extension": ".py",
   "mimetype": "text/x-python",
   "name": "python",
   "nbconvert_exporter": "python",
   "pygments_lexer": "ipython3",
   "version": "3.7.3"
  }
 },
 "nbformat": 4,
 "nbformat_minor": 2
}
